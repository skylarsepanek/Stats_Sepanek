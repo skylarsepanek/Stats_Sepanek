{
  "nbformat": 4,
  "nbformat_minor": 0,
  "metadata": {
    "colab": {
      "provenance": [],
      "collapsed_sections": [
        "6o5zYVOU8ahE"
      ],
      "include_colab_link": true
    },
    "kernelspec": {
      "name": "python3",
      "display_name": "Python 3"
    },
    "language_info": {
      "name": "python"
    }
  },
  "cells": [
    {
      "cell_type": "markdown",
      "metadata": {
        "id": "view-in-github",
        "colab_type": "text"
      },
      "source": [
        "<a href=\"https://colab.research.google.com/github/skylarsepanek/Stats_Sepanek/blob/main/Sepanek_Lab_4.ipynb\" target=\"_parent\"><img src=\"https://colab.research.google.com/assets/colab-badge.svg\" alt=\"Open In Colab\"/></a>"
      ]
    },
    {
      "cell_type": "markdown",
      "source": [
        "# Stats Notebook Lab #4\n"
      ],
      "metadata": {
        "id": "GEwHyK5ve9lG"
      }
    },
    {
      "cell_type": "code",
      "source": [
        "import numpy as np\n",
        "import matplotlib.pyplot as plt"
      ],
      "metadata": {
        "id": "vJ6HJOKPFbkn"
      },
      "execution_count": 109,
      "outputs": []
    },
    {
      "cell_type": "code",
      "source": [
        "x = np.array([12, 17, 18, 23, 56, 37, 48])   #putting in numers for average formula"
      ],
      "metadata": {
        "id": "mG_A0OrJ3rQ-"
      },
      "execution_count": 110,
      "outputs": []
    },
    {
      "cell_type": "code",
      "source": [
        "# population"
      ],
      "metadata": {
        "id": "qtftE4fTLopi"
      },
      "execution_count": 111,
      "outputs": []
    },
    {
      "cell_type": "code",
      "source": [
        "np.sum(x)"
      ],
      "metadata": {
        "colab": {
          "base_uri": "https://localhost:8080/"
        },
        "id": "5qF36IYbmrqM",
        "outputId": "641c3b18-ac09-4cf1-b363-6f014a2fdaff"
      },
      "execution_count": 112,
      "outputs": [
        {
          "output_type": "execute_result",
          "data": {
            "text/plain": [
              "211"
            ]
          },
          "metadata": {},
          "execution_count": 112
        }
      ]
    },
    {
      "cell_type": "code",
      "source": [
        "x.shape[0]"
      ],
      "metadata": {
        "colab": {
          "base_uri": "https://localhost:8080/"
        },
        "id": "L-osdNFlm2UR",
        "outputId": "849f682c-5d28-4568-d12f-d8e99c4011cb"
      },
      "execution_count": 113,
      "outputs": [
        {
          "output_type": "execute_result",
          "data": {
            "text/plain": [
              "7"
            ]
          },
          "metadata": {},
          "execution_count": 113
        }
      ]
    },
    {
      "cell_type": "code",
      "source": [
        "np.sum(x)/x.shape[0]"
      ],
      "metadata": {
        "colab": {
          "base_uri": "https://localhost:8080/"
        },
        "id": "Yhh-mqk2mz2p",
        "outputId": "8db5d45f-e432-40d7-9692-026bbb0845b1"
      },
      "execution_count": 114,
      "outputs": [
        {
          "output_type": "execute_result",
          "data": {
            "text/plain": [
              "30.142857142857142"
            ]
          },
          "metadata": {},
          "execution_count": 114
        }
      ]
    },
    {
      "cell_type": "code",
      "source": [
        "def mean(x):   #formula for average\n",
        "    return np.sum(x)/x.shape[0]"
      ],
      "metadata": {
        "id": "2sNU3WHzKL-K"
      },
      "execution_count": 115,
      "outputs": []
    },
    {
      "cell_type": "code",
      "source": [
        "def var(x): #calculate variants\n",
        "    return mean((x - mean(x))**2)"
      ],
      "metadata": {
        "id": "AFiWPynDKL-K"
      },
      "execution_count": 116,
      "outputs": []
    },
    {
      "cell_type": "code",
      "source": [
        "def std(x): #standard deviation\n",
        "    return np.sqrt(var(x))"
      ],
      "metadata": {
        "id": "qgYexg70KL-K"
      },
      "execution_count": 117,
      "outputs": []
    },
    {
      "cell_type": "code",
      "source": [
        "mean(x)"
      ],
      "metadata": {
        "colab": {
          "base_uri": "https://localhost:8080/"
        },
        "outputId": "bc911c80-be65-4ee9-caf4-3ac05cb67103",
        "id": "RWRhGNozKL-K"
      },
      "execution_count": 118,
      "outputs": [
        {
          "output_type": "execute_result",
          "data": {
            "text/plain": [
              "30.142857142857142"
            ]
          },
          "metadata": {},
          "execution_count": 118
        }
      ]
    },
    {
      "cell_type": "code",
      "source": [
        "var(x)"
      ],
      "metadata": {
        "colab": {
          "base_uri": "https://localhost:8080/"
        },
        "id": "qE62mTdl42M8",
        "outputId": "0d47770d-6aaf-40a4-ff9a-07f74c3eb0ea"
      },
      "execution_count": 119,
      "outputs": [
        {
          "output_type": "execute_result",
          "data": {
            "text/plain": [
              "247.83673469387756"
            ]
          },
          "metadata": {},
          "execution_count": 119
        }
      ]
    },
    {
      "cell_type": "code",
      "source": [
        "std(x)"
      ],
      "metadata": {
        "colab": {
          "base_uri": "https://localhost:8080/"
        },
        "outputId": "3ffcfccc-1537-4047-f32a-5d2c3a7b8b8f",
        "id": "GNgkLkMWKL-K"
      },
      "execution_count": 120,
      "outputs": [
        {
          "output_type": "execute_result",
          "data": {
            "text/plain": [
              "15.742831215949613"
            ]
          },
          "metadata": {},
          "execution_count": 120
        }
      ]
    },
    {
      "cell_type": "markdown",
      "source": [
        "### Random Number Generator"
      ],
      "metadata": {
        "id": "_CYAXnRate5P"
      }
    },
    {
      "cell_type": "code",
      "source": [
        "m = 75                 # multiplier\n",
        "b = 74                 # increment\n",
        "n = 65537              # modulus "
      ],
      "metadata": {
        "id": "UVSSfm-U3zeD"
      },
      "execution_count": 121,
      "outputs": []
    },
    {
      "cell_type": "code",
      "source": [
        "x = 58     # seed value"
      ],
      "metadata": {
        "id": "P_DmR_fF6wXH"
      },
      "execution_count": 122,
      "outputs": []
    },
    {
      "cell_type": "code",
      "source": [
        "m*x + 74"
      ],
      "metadata": {
        "colab": {
          "base_uri": "https://localhost:8080/"
        },
        "id": "tMNZv_Nuq6H7",
        "outputId": "f6ae1853-927a-468d-a630-d6adc97f802f"
      },
      "execution_count": 123,
      "outputs": [
        {
          "output_type": "execute_result",
          "data": {
            "text/plain": [
              "4424"
            ]
          },
          "metadata": {},
          "execution_count": 123
        }
      ]
    },
    {
      "cell_type": "code",
      "source": [
        "x = (m*x + b)% n"
      ],
      "metadata": {
        "id": "o-Bjp1h7q6KO"
      },
      "execution_count": 124,
      "outputs": []
    },
    {
      "cell_type": "code",
      "source": [
        "X = np.zeros(500,)   #capital X "
      ],
      "metadata": {
        "id": "tsc1C6Pu7HUc"
      },
      "execution_count": 125,
      "outputs": []
    },
    {
      "cell_type": "code",
      "source": [
        "x = (m * x + b) % n    "
      ],
      "metadata": {
        "id": "uYYGnjjW318n"
      },
      "execution_count": 126,
      "outputs": []
    },
    {
      "cell_type": "code",
      "source": [
        "for i in range(X.shape[0]):\n",
        "\n",
        "    x = (m * x + b) % n\n",
        "    \n",
        "    X[i] = x\n",
        "\n",
        "X /= np.max(X)"
      ],
      "metadata": {
        "id": "YIkRsEGa6z7k"
      },
      "execution_count": 127,
      "outputs": []
    },
    {
      "cell_type": "code",
      "source": [
        "X"
      ],
      "metadata": {
        "colab": {
          "base_uri": "https://localhost:8080/"
        },
        "id": "ZGfUjRIgrqNW",
        "outputId": "a03773d1-6d7e-472f-e710-75745ce422b3"
      },
      "execution_count": 128,
      "outputs": [
        {
          "output_type": "execute_result",
          "data": {
            "text/plain": [
              "array([7.96030618e-01, 6.25903348e-01, 8.83439520e-01, 1.72373226e-01,\n",
              "       9.13355029e-01, 4.13408504e-01, 9.67349620e-01, 4.57747017e-01,\n",
              "       2.87482239e-01, 5.34705352e-01, 5.14736215e-02, 8.57710348e-01,\n",
              "       2.45313288e-01, 3.75975921e-01, 1.62533804e-01, 1.75398390e-01,\n",
              "       1.38928359e-01, 4.07617913e-01, 5.33055263e-01, 9.29030878e-01,\n",
              "       5.87783227e-01, 2.70584101e-02, 2.78834548e-02, 8.97618065e-02,\n",
              "       7.25382347e-01, 3.33852806e-01, 7.24205894e-03, 5.44285038e-01,\n",
              "       7.69950039e-01, 6.72487815e-01, 3.72018762e-01, 8.67060855e-01,\n",
              "       9.46601274e-01, 9.04248980e-01, 7.31768804e-01, 8.12837084e-01,\n",
              "       8.85074330e-01, 2.94984034e-01, 9.60260347e-02, 1.93885502e-01,\n",
              "       5.24147836e-01, 2.60973858e-01, 5.49204749e-01, 1.37614399e-01,\n",
              "       3.09070908e-01, 1.51227636e-01, 3.28749752e-01, 6.25826955e-01,\n",
              "       8.77710043e-01, 7.43976410e-01, 7.27093551e-01, 4.62193091e-01,\n",
              "       6.20937801e-01, 5.11023514e-01, 2.77963667e-01, 8.22126476e-01,\n",
              "       5.80464775e-01, 4.79488472e-01, 9.16777437e-01, 6.70089074e-01,\n",
              "       1.92113184e-01, 3.91223969e-01, 3.04823456e-01, 8.33982674e-01,\n",
              "       4.68365648e-01, 8.25655834e-02, 1.85665612e-01, 9.08970069e-01,\n",
              "       8.45365235e-02, 3.33486119e-01, 9.81054529e-01, 4.84301233e-01,\n",
              "       2.76420528e-01, 7.06391041e-01, 9.12132741e-01, 3.21736872e-01,\n",
              "       9.98609647e-02, 4.81505248e-01, 6.67216696e-02, 1.00000000e+00,\n",
              "       9.03897572e-01, 7.05413210e-01, 8.38795435e-01, 8.29322699e-01,\n",
              "       1.18867550e-01, 9.05685169e-01, 8.39482972e-01, 8.80887993e-01,\n",
              "       9.82322654e-01, 5.79410551e-01, 4.00421690e-01, 9.94652488e-01,\n",
              "       5.02834181e-01, 6.65077692e-01, 8.17573452e-01, 2.38987945e-01,\n",
              "       9.02889184e-01, 6.29784113e-01, 1.73182992e-01, 9.74087485e-01,\n",
              "       9.63086889e-01, 1.38042200e-01, 3.41155979e-01, 5.54980061e-01,\n",
              "       5.70762861e-01, 7.53158852e-01, 4.14462728e-01, 4.51024430e-02,\n",
              "       3.79871965e-01, 4.54737132e-01, 6.17408443e-02, 6.26438099e-01,\n",
              "       9.23545859e-01, 1.76406778e-01, 2.14557455e-01, 7.19163955e-02,\n",
              "       3.88290477e-01, 8.48115384e-02, 3.54112237e-01, 5.25385403e-01,\n",
              "       3.53791386e-01, 5.01321599e-01, 5.51634047e-01, 3.19811768e-01,\n",
              "       9.56792104e-01, 6.67247254e-01, 9.80290599e-01, 4.27006463e-01,\n",
              "       9.85882569e-01, 8.46404180e-01, 3.98664650e-01, 8.62874517e-01,\n",
              "       6.32625934e-01, 3.86319537e-01, 9.38304992e-01, 2.82027777e-01,\n",
              "       1.25620693e-01, 4.10856977e-01, 7.75985088e-01, 1.23802539e-01,\n",
              "       2.74495424e-01, 5.62008220e-01, 9.65607859e-02, 2.33991841e-01,\n",
              "       5.28181388e-01, 5.63490245e-01, 2.07712640e-01, 5.59869215e-01,\n",
              "       9.37449390e-01, 2.17857634e-01, 3.19429802e-01, 9.28144719e-01,\n",
              "       5.21321294e-01, 4.89832088e-02, 6.70929398e-01, 2.55137431e-01,\n",
              "       1.11472705e-01, 3.51071794e-01, 2.97352218e-01, 2.73639822e-01,\n",
              "       4.97838077e-01, 2.90369895e-01, 7.51279583e-01, 2.73517593e-01,\n",
              "       4.88670914e-01, 6.04146613e-01, 2.52998426e-01, 9.52361308e-01,\n",
              "       3.34937587e-01, 8.86006325e-02, 6.38294296e-01, 8.11446731e-01,\n",
              "       7.80797849e-01, 4.84759591e-01, 3.10797390e-01, 2.80713816e-01,\n",
              "       2.70736887e-02, 2.90293502e-02, 1.75703962e-01, 1.61846267e-01,\n",
              "       1.23833097e-01, 2.76787215e-01, 7.33892530e-01, 9.72116545e-01,\n",
              "       8.15266382e-01, 6.59577394e-02, 9.42705230e-01, 6.12045652e-01,\n",
              "       8.45426349e-01, 3.25327344e-01, 3.69146384e-01, 6.51632519e-01,\n",
              "       8.10499458e-01, 7.09752334e-01, 1.62915769e-01, 2.04045775e-01,\n",
              "       2.84854318e-01, 3.37611343e-01, 2.89132328e-01, 6.58462056e-01,\n",
              "       3.21400743e-01, 7.46512658e-02, 5.93405754e-01, 4.48747918e-01,\n",
              "       6.13863807e-01, 9.81787902e-01, 5.39304212e-01, 3.96388138e-01,\n",
              "       6.92136102e-01, 8.44326290e-01, 2.42822875e-01, 1.89194970e-01,\n",
              "       1.72357947e-01, 9.12209134e-01, 3.27466349e-01, 5.29571741e-01,\n",
              "       6.67766726e-01, 1.79370827e-02, 3.45097859e-01, 8.50621075e-01,\n",
              "       7.14931781e-01, 5.51374311e-01, 3.00331546e-01, 4.97089426e-01,\n",
              "       2.34221020e-01, 5.45369819e-01, 8.51308613e-01, 7.66497074e-01,\n",
              "       4.13515454e-01, 9.75370888e-01, 5.80281432e-02, 3.47985516e-01,\n",
              "       6.58813464e-02, 9.36975753e-01, 1.82334876e-01, 6.59164871e-01,\n",
              "       3.74111931e-01, 2.27345648e-02, 7.04909016e-01, 8.00980886e-01,\n",
              "       9.97173458e-01, 6.91906923e-01, 8.27137859e-01, 9.56318467e-01,\n",
              "       6.31724496e-01, 3.18711708e-01, 8.74287635e-01, 4.87295840e-01,\n",
              "       5.01016027e-01, 5.28716139e-01, 6.03596584e-01, 2.11746192e-01,\n",
              "       8.62385601e-01, 5.95957281e-01, 6.40112451e-01, 9.47808284e-01,\n",
              "       9.94774717e-01, 5.12001345e-01, 3.51300973e-01, 3.14540649e-01,\n",
              "       5.61458190e-01, 5.53085514e-02, 1.44016134e-01, 7.89201082e-01,\n",
              "       1.13688103e-01, 5.17226628e-01, 7.43197201e-01, 6.68652885e-01,\n",
              "       8.43990161e-02, 3.23173061e-01, 2.07575133e-01, 5.49556157e-01,\n",
              "       1.63969993e-01, 2.83112557e-01, 2.06979267e-01, 5.04866236e-01,\n",
              "       8.17481780e-01, 2.32112573e-01, 3.87236253e-01, 5.74475562e-03,\n",
              "       4.31987288e-01, 3.58130510e-01, 8.26755894e-01, 9.27671082e-01,\n",
              "       4.85798536e-01, 3.88718278e-01, 1.16896610e-01, 7.57864662e-01,\n",
              "       7.67398512e-01, 4.81123283e-01, 3.80742846e-02, 8.54074040e-01,\n",
              "       9.73904142e-01, 9.49336145e-01, 1.08050297e-01, 9.43912240e-02,\n",
              "       7.12746940e-02, 3.40162870e-01, 4.80496860e-01, 9.92406533e-01,\n",
              "       3.34387557e-01, 4.73483980e-02, 5.48318589e-01, 7.11524652e-02,\n",
              "       3.30995707e-01, 7.94273579e-01, 4.94125376e-01, 1.19173122e-02,\n",
              "       8.94929031e-01, 3.27726085e-02, 4.56448335e-01, 1.90081129e-01,\n",
              "       2.38819881e-01, 8.90284335e-01, 6.85734366e-01, 3.64196116e-01,\n",
              "       2.80362409e-01, 7.18094452e-04, 5.49877007e-02, 1.19952331e-01,\n",
              "       9.87043743e-01, 9.33492231e-01, 9.22384685e-01, 8.93187270e-02,\n",
              "       6.92151380e-01, 8.45472185e-01, 3.28765030e-01, 6.26972850e-01,\n",
              "       9.63652198e-01, 1.80440329e-01, 5.17073841e-01, 7.31738247e-01,\n",
              "       8.10545293e-01, 7.13190020e-01, 4.20742235e-01, 5.16065454e-01,\n",
              "       6.56109150e-01, 1.44932851e-01, 8.57954806e-01, 2.63647614e-01,\n",
              "       7.49736444e-01, 1.57782158e-01, 8.20338879e-01, 4.46395013e-01,\n",
              "       4.37395915e-01, 7.63777482e-01, 2.09546073e-01, 6.97376663e-01,\n",
              "       2.36054453e-01, 6.82877267e-01, 1.49913676e-01, 2.30202747e-01,\n",
              "       2.43999328e-01, 2.77428916e-01, 7.82020137e-01, 5.76431223e-01,\n",
              "       1.76972086e-01, 2.56955585e-01, 2.47834258e-01, 5.65048662e-01,\n",
              "       3.24593971e-01, 3.14143405e-01, 5.31664910e-01, 8.24754396e-01,\n",
              "       7.77558784e-01, 2.41829766e-01, 1.14711769e-01, 5.94001620e-01,\n",
              "       4.93437839e-01, 9.61665979e-01, 3.14739271e-02, 3.59047226e-01,\n",
              "       8.95509618e-01, 7.63166338e-02, 7.18308353e-01, 8.04617195e-01,\n",
              "       2.68582604e-01, 1.18546699e-01, 8.81621366e-01, 3.60116729e-02,\n",
              "       6.99378161e-01, 3.86166751e-01, 9.26846037e-01, 4.23920185e-01,\n",
              "       7.54411697e-01, 5.08426151e-01, 8.31614490e-02, 2.30355533e-01,\n",
              "       2.55458282e-01, 1.35536508e-01, 1.53229133e-01, 4.78862049e-01,\n",
              "       8.69795725e-01, 1.50402591e-01, 2.66871400e-01, 9.91520374e-01,\n",
              "       2.67925624e-01, 6.92731967e-02, 1.90050572e-01, 2.36528090e-01,\n",
              "       7.18400024e-01, 8.11492567e-01, 7.84235535e-01, 7.42586057e-01,\n",
              "       6.22817069e-01, 6.51968648e-01, 8.35709156e-01, 5.97851828e-01,\n",
              "       7.82203480e-01, 5.90181968e-01, 2.06963988e-01, 5.03720340e-01,\n",
              "       7.31539625e-01, 7.95648653e-01, 5.97255962e-01, 7.37513560e-01,\n",
              "       2.42379796e-01, 1.55964004e-01, 6.83977327e-01, 2.32418145e-01,\n",
              "       4.10154161e-01, 7.23273900e-01, 1.75719240e-01, 1.62992162e-01,\n",
              "       2.09775252e-01, 7.14565094e-01, 5.23872821e-01, 2.40347741e-01,\n",
              "       3.55991505e-03, 2.68124246e-01, 8.41698370e-02, 3.05984630e-01,\n",
              "       9.21070725e-01, 9.92085682e-01, 3.10323754e-01, 2.45191059e-01,\n",
              "       3.66808758e-01, 4.76310522e-01, 6.78431193e-01, 8.17772074e-01,\n",
              "       2.53884585e-01, 1.75092818e-02, 3.13012788e-01, 4.46868650e-01,\n",
              "       4.72918672e-01, 4.24042413e-01, 7.63578861e-01, 1.94649432e-01,\n",
              "       5.81442606e-01, 5.52825778e-01, 4.09191609e-01, 6.51082489e-01,\n",
              "       7.69247223e-01, 6.19776627e-01, 4.23935463e-01, 7.55557593e-01,\n",
              "       5.94368306e-01, 5.20939329e-01, 2.03358237e-02, 5.25003438e-01,\n",
              "       3.25144001e-01, 3.55395639e-01, 6.21640617e-01, 5.63734702e-01,\n",
              "       2.26046966e-01, 9.33629738e-01, 9.32697743e-01, 8.62798124e-01,\n",
              "       6.26896457e-01, 9.57922721e-01, 7.52043513e-01, 3.30812363e-01,\n",
              "       7.80522834e-01, 4.64133474e-01, 7.66466517e-01, 4.11223664e-01,\n",
              "       8.03486578e-01, 1.83786344e-01, 7.68024935e-01, 5.28104995e-01,\n",
              "       5.57760768e-01, 7.79315824e-01, 3.73607737e-01, 9.86233977e-01,\n",
              "       8.72759774e-01, 3.72706299e-01, 9.18626148e-01, 8.08742418e-01,\n",
              "       5.77974363e-01, 2.92707522e-01, 9.26601580e-01, 4.05585858e-01,\n",
              "       3.80651174e-01, 5.13177797e-01, 4.39534919e-01, 9.24202839e-01,\n",
              "       2.25680280e-01, 9.06128249e-01, 8.72713939e-01, 3.69268613e-01])"
            ]
          },
          "metadata": {},
          "execution_count": 128
        }
      ]
    },
    {
      "cell_type": "code",
      "source": [
        "plt.plot(X[:100],'.')   #makes points on graph"
      ],
      "metadata": {
        "id": "CSo6lY_w73zE",
        "outputId": "d9979aa9-6419-449b-f92e-d6b87746e16e",
        "colab": {
          "base_uri": "https://localhost:8080/",
          "height": 282
        }
      },
      "execution_count": 129,
      "outputs": [
        {
          "output_type": "execute_result",
          "data": {
            "text/plain": [
              "[<matplotlib.lines.Line2D at 0x7fd3eb2cf950>]"
            ]
          },
          "metadata": {},
          "execution_count": 129
        },
        {
          "output_type": "display_data",
          "data": {
            "text/plain": [
              "<Figure size 432x288 with 1 Axes>"
            ],
            "image/png": "[encoded data removed]"
          },
          "metadata": {
            "needs_background": "light"
          }
        }
      ]
    },
    {
      "cell_type": "code",
      "source": [
        "plt.hist(X); #histogram #important tool"
      ],
      "metadata": {
        "id": "_0KkpxTi650i",
        "colab": {
          "base_uri": "https://localhost:8080/",
          "height": 265
        },
        "outputId": "ba0fc6b2-369d-4a34-aee0-0b54516fc735"
      },
      "execution_count": 130,
      "outputs": [
        {
          "output_type": "display_data",
          "data": {
            "text/plain": [
              "<Figure size 432x288 with 1 Axes>"
            ],
            "image/png": "[encoded data removed]"
          },
          "metadata": {
            "needs_background": "light"
          }
        }
      ]
    },
    {
      "cell_type": "code",
      "source": [
        "plt.hist(X,100); #tells how many bars we want"
      ],
      "metadata": {
        "id": "vp84AO4c7-QP",
        "colab": {
          "base_uri": "https://localhost:8080/",
          "height": 265
        },
        "outputId": "b717fdbc-8563-4864-8821-43e4b9618ce6"
      },
      "execution_count": 131,
      "outputs": [
        {
          "output_type": "display_data",
          "data": {
            "text/plain": [
              "<Figure size 432x288 with 1 Axes>"
            ],
            "image/png": "[encoded data removed]"
          },
          "metadata": {
            "needs_background": "light"
          }
        }
      ]
    },
    {
      "cell_type": "code",
      "source": [
        "X"
      ],
      "metadata": {
        "id": "T8Wl-5_Zmc7u",
        "colab": {
          "base_uri": "https://localhost:8080/"
        },
        "outputId": "3948782e-71f3-4034-8172-98e2f79f91aa"
      },
      "execution_count": 132,
      "outputs": [
        {
          "output_type": "execute_result",
          "data": {
            "text/plain": [
              "array([7.96030618e-01, 6.25903348e-01, 8.83439520e-01, 1.72373226e-01,\n",
              "       9.13355029e-01, 4.13408504e-01, 9.67349620e-01, 4.57747017e-01,\n",
              "       2.87482239e-01, 5.34705352e-01, 5.14736215e-02, 8.57710348e-01,\n",
              "       2.45313288e-01, 3.75975921e-01, 1.62533804e-01, 1.75398390e-01,\n",
              "       1.38928359e-01, 4.07617913e-01, 5.33055263e-01, 9.29030878e-01,\n",
              "       5.87783227e-01, 2.70584101e-02, 2.78834548e-02, 8.97618065e-02,\n",
              "       7.25382347e-01, 3.33852806e-01, 7.24205894e-03, 5.44285038e-01,\n",
              "       7.69950039e-01, 6.72487815e-01, 3.72018762e-01, 8.67060855e-01,\n",
              "       9.46601274e-01, 9.04248980e-01, 7.31768804e-01, 8.12837084e-01,\n",
              "       8.85074330e-01, 2.94984034e-01, 9.60260347e-02, 1.93885502e-01,\n",
              "       5.24147836e-01, 2.60973858e-01, 5.49204749e-01, 1.37614399e-01,\n",
              "       3.09070908e-01, 1.51227636e-01, 3.28749752e-01, 6.25826955e-01,\n",
              "       8.77710043e-01, 7.43976410e-01, 7.27093551e-01, 4.62193091e-01,\n",
              "       6.20937801e-01, 5.11023514e-01, 2.77963667e-01, 8.22126476e-01,\n",
              "       5.80464775e-01, 4.79488472e-01, 9.16777437e-01, 6.70089074e-01,\n",
              "       1.92113184e-01, 3.91223969e-01, 3.04823456e-01, 8.33982674e-01,\n",
              "       4.68365648e-01, 8.25655834e-02, 1.85665612e-01, 9.08970069e-01,\n",
              "       8.45365235e-02, 3.33486119e-01, 9.81054529e-01, 4.84301233e-01,\n",
              "       2.76420528e-01, 7.06391041e-01, 9.12132741e-01, 3.21736872e-01,\n",
              "       9.98609647e-02, 4.81505248e-01, 6.67216696e-02, 1.00000000e+00,\n",
              "       9.03897572e-01, 7.05413210e-01, 8.38795435e-01, 8.29322699e-01,\n",
              "       1.18867550e-01, 9.05685169e-01, 8.39482972e-01, 8.80887993e-01,\n",
              "       9.82322654e-01, 5.79410551e-01, 4.00421690e-01, 9.94652488e-01,\n",
              "       5.02834181e-01, 6.65077692e-01, 8.17573452e-01, 2.38987945e-01,\n",
              "       9.02889184e-01, 6.29784113e-01, 1.73182992e-01, 9.74087485e-01,\n",
              "       9.63086889e-01, 1.38042200e-01, 3.41155979e-01, 5.54980061e-01,\n",
              "       5.70762861e-01, 7.53158852e-01, 4.14462728e-01, 4.51024430e-02,\n",
              "       3.79871965e-01, 4.54737132e-01, 6.17408443e-02, 6.26438099e-01,\n",
              "       9.23545859e-01, 1.76406778e-01, 2.14557455e-01, 7.19163955e-02,\n",
              "       3.88290477e-01, 8.48115384e-02, 3.54112237e-01, 5.25385403e-01,\n",
              "       3.53791386e-01, 5.01321599e-01, 5.51634047e-01, 3.19811768e-01,\n",
              "       9.56792104e-01, 6.67247254e-01, 9.80290599e-01, 4.27006463e-01,\n",
              "       9.85882569e-01, 8.46404180e-01, 3.98664650e-01, 8.62874517e-01,\n",
              "       6.32625934e-01, 3.86319537e-01, 9.38304992e-01, 2.82027777e-01,\n",
              "       1.25620693e-01, 4.10856977e-01, 7.75985088e-01, 1.23802539e-01,\n",
              "       2.74495424e-01, 5.62008220e-01, 9.65607859e-02, 2.33991841e-01,\n",
              "       5.28181388e-01, 5.63490245e-01, 2.07712640e-01, 5.59869215e-01,\n",
              "       9.37449390e-01, 2.17857634e-01, 3.19429802e-01, 9.28144719e-01,\n",
              "       5.21321294e-01, 4.89832088e-02, 6.70929398e-01, 2.55137431e-01,\n",
              "       1.11472705e-01, 3.51071794e-01, 2.97352218e-01, 2.73639822e-01,\n",
              "       4.97838077e-01, 2.90369895e-01, 7.51279583e-01, 2.73517593e-01,\n",
              "       4.88670914e-01, 6.04146613e-01, 2.52998426e-01, 9.52361308e-01,\n",
              "       3.34937587e-01, 8.86006325e-02, 6.38294296e-01, 8.11446731e-01,\n",
              "       7.80797849e-01, 4.84759591e-01, 3.10797390e-01, 2.80713816e-01,\n",
              "       2.70736887e-02, 2.90293502e-02, 1.75703962e-01, 1.61846267e-01,\n",
              "       1.23833097e-01, 2.76787215e-01, 7.33892530e-01, 9.72116545e-01,\n",
              "       8.15266382e-01, 6.59577394e-02, 9.42705230e-01, 6.12045652e-01,\n",
              "       8.45426349e-01, 3.25327344e-01, 3.69146384e-01, 6.51632519e-01,\n",
              "       8.10499458e-01, 7.09752334e-01, 1.62915769e-01, 2.04045775e-01,\n",
              "       2.84854318e-01, 3.37611343e-01, 2.89132328e-01, 6.58462056e-01,\n",
              "       3.21400743e-01, 7.46512658e-02, 5.93405754e-01, 4.48747918e-01,\n",
              "       6.13863807e-01, 9.81787902e-01, 5.39304212e-01, 3.96388138e-01,\n",
              "       6.92136102e-01, 8.44326290e-01, 2.42822875e-01, 1.89194970e-01,\n",
              "       1.72357947e-01, 9.12209134e-01, 3.27466349e-01, 5.29571741e-01,\n",
              "       6.67766726e-01, 1.79370827e-02, 3.45097859e-01, 8.50621075e-01,\n",
              "       7.14931781e-01, 5.51374311e-01, 3.00331546e-01, 4.97089426e-01,\n",
              "       2.34221020e-01, 5.45369819e-01, 8.51308613e-01, 7.66497074e-01,\n",
              "       4.13515454e-01, 9.75370888e-01, 5.80281432e-02, 3.47985516e-01,\n",
              "       6.58813464e-02, 9.36975753e-01, 1.82334876e-01, 6.59164871e-01,\n",
              "       3.74111931e-01, 2.27345648e-02, 7.04909016e-01, 8.00980886e-01,\n",
              "       9.97173458e-01, 6.91906923e-01, 8.27137859e-01, 9.56318467e-01,\n",
              "       6.31724496e-01, 3.18711708e-01, 8.74287635e-01, 4.87295840e-01,\n",
              "       5.01016027e-01, 5.28716139e-01, 6.03596584e-01, 2.11746192e-01,\n",
              "       8.62385601e-01, 5.95957281e-01, 6.40112451e-01, 9.47808284e-01,\n",
              "       9.94774717e-01, 5.12001345e-01, 3.51300973e-01, 3.14540649e-01,\n",
              "       5.61458190e-01, 5.53085514e-02, 1.44016134e-01, 7.89201082e-01,\n",
              "       1.13688103e-01, 5.17226628e-01, 7.43197201e-01, 6.68652885e-01,\n",
              "       8.43990161e-02, 3.23173061e-01, 2.07575133e-01, 5.49556157e-01,\n",
              "       1.63969993e-01, 2.83112557e-01, 2.06979267e-01, 5.04866236e-01,\n",
              "       8.17481780e-01, 2.32112573e-01, 3.87236253e-01, 5.74475562e-03,\n",
              "       4.31987288e-01, 3.58130510e-01, 8.26755894e-01, 9.27671082e-01,\n",
              "       4.85798536e-01, 3.88718278e-01, 1.16896610e-01, 7.57864662e-01,\n",
              "       7.67398512e-01, 4.81123283e-01, 3.80742846e-02, 8.54074040e-01,\n",
              "       9.73904142e-01, 9.49336145e-01, 1.08050297e-01, 9.43912240e-02,\n",
              "       7.12746940e-02, 3.40162870e-01, 4.80496860e-01, 9.92406533e-01,\n",
              "       3.34387557e-01, 4.73483980e-02, 5.48318589e-01, 7.11524652e-02,\n",
              "       3.30995707e-01, 7.94273579e-01, 4.94125376e-01, 1.19173122e-02,\n",
              "       8.94929031e-01, 3.27726085e-02, 4.56448335e-01, 1.90081129e-01,\n",
              "       2.38819881e-01, 8.90284335e-01, 6.85734366e-01, 3.64196116e-01,\n",
              "       2.80362409e-01, 7.18094452e-04, 5.49877007e-02, 1.19952331e-01,\n",
              "       9.87043743e-01, 9.33492231e-01, 9.22384685e-01, 8.93187270e-02,\n",
              "       6.92151380e-01, 8.45472185e-01, 3.28765030e-01, 6.26972850e-01,\n",
              "       9.63652198e-01, 1.80440329e-01, 5.17073841e-01, 7.31738247e-01,\n",
              "       8.10545293e-01, 7.13190020e-01, 4.20742235e-01, 5.16065454e-01,\n",
              "       6.56109150e-01, 1.44932851e-01, 8.57954806e-01, 2.63647614e-01,\n",
              "       7.49736444e-01, 1.57782158e-01, 8.20338879e-01, 4.46395013e-01,\n",
              "       4.37395915e-01, 7.63777482e-01, 2.09546073e-01, 6.97376663e-01,\n",
              "       2.36054453e-01, 6.82877267e-01, 1.49913676e-01, 2.30202747e-01,\n",
              "       2.43999328e-01, 2.77428916e-01, 7.82020137e-01, 5.76431223e-01,\n",
              "       1.76972086e-01, 2.56955585e-01, 2.47834258e-01, 5.65048662e-01,\n",
              "       3.24593971e-01, 3.14143405e-01, 5.31664910e-01, 8.24754396e-01,\n",
              "       7.77558784e-01, 2.41829766e-01, 1.14711769e-01, 5.94001620e-01,\n",
              "       4.93437839e-01, 9.61665979e-01, 3.14739271e-02, 3.59047226e-01,\n",
              "       8.95509618e-01, 7.63166338e-02, 7.18308353e-01, 8.04617195e-01,\n",
              "       2.68582604e-01, 1.18546699e-01, 8.81621366e-01, 3.60116729e-02,\n",
              "       6.99378161e-01, 3.86166751e-01, 9.26846037e-01, 4.23920185e-01,\n",
              "       7.54411697e-01, 5.08426151e-01, 8.31614490e-02, 2.30355533e-01,\n",
              "       2.55458282e-01, 1.35536508e-01, 1.53229133e-01, 4.78862049e-01,\n",
              "       8.69795725e-01, 1.50402591e-01, 2.66871400e-01, 9.91520374e-01,\n",
              "       2.67925624e-01, 6.92731967e-02, 1.90050572e-01, 2.36528090e-01,\n",
              "       7.18400024e-01, 8.11492567e-01, 7.84235535e-01, 7.42586057e-01,\n",
              "       6.22817069e-01, 6.51968648e-01, 8.35709156e-01, 5.97851828e-01,\n",
              "       7.82203480e-01, 5.90181968e-01, 2.06963988e-01, 5.03720340e-01,\n",
              "       7.31539625e-01, 7.95648653e-01, 5.97255962e-01, 7.37513560e-01,\n",
              "       2.42379796e-01, 1.55964004e-01, 6.83977327e-01, 2.32418145e-01,\n",
              "       4.10154161e-01, 7.23273900e-01, 1.75719240e-01, 1.62992162e-01,\n",
              "       2.09775252e-01, 7.14565094e-01, 5.23872821e-01, 2.40347741e-01,\n",
              "       3.55991505e-03, 2.68124246e-01, 8.41698370e-02, 3.05984630e-01,\n",
              "       9.21070725e-01, 9.92085682e-01, 3.10323754e-01, 2.45191059e-01,\n",
              "       3.66808758e-01, 4.76310522e-01, 6.78431193e-01, 8.17772074e-01,\n",
              "       2.53884585e-01, 1.75092818e-02, 3.13012788e-01, 4.46868650e-01,\n",
              "       4.72918672e-01, 4.24042413e-01, 7.63578861e-01, 1.94649432e-01,\n",
              "       5.81442606e-01, 5.52825778e-01, 4.09191609e-01, 6.51082489e-01,\n",
              "       7.69247223e-01, 6.19776627e-01, 4.23935463e-01, 7.55557593e-01,\n",
              "       5.94368306e-01, 5.20939329e-01, 2.03358237e-02, 5.25003438e-01,\n",
              "       3.25144001e-01, 3.55395639e-01, 6.21640617e-01, 5.63734702e-01,\n",
              "       2.26046966e-01, 9.33629738e-01, 9.32697743e-01, 8.62798124e-01,\n",
              "       6.26896457e-01, 9.57922721e-01, 7.52043513e-01, 3.30812363e-01,\n",
              "       7.80522834e-01, 4.64133474e-01, 7.66466517e-01, 4.11223664e-01,\n",
              "       8.03486578e-01, 1.83786344e-01, 7.68024935e-01, 5.28104995e-01,\n",
              "       5.57760768e-01, 7.79315824e-01, 3.73607737e-01, 9.86233977e-01,\n",
              "       8.72759774e-01, 3.72706299e-01, 9.18626148e-01, 8.08742418e-01,\n",
              "       5.77974363e-01, 2.92707522e-01, 9.26601580e-01, 4.05585858e-01,\n",
              "       3.80651174e-01, 5.13177797e-01, 4.39534919e-01, 9.24202839e-01,\n",
              "       2.25680280e-01, 9.06128249e-01, 8.72713939e-01, 3.69268613e-01])"
            ]
          },
          "metadata": {},
          "execution_count": 132
        }
      ]
    },
    {
      "cell_type": "code",
      "source": [
        "X"
      ],
      "metadata": {
        "id": "DT5uuI5hmLBR",
        "colab": {
          "base_uri": "https://localhost:8080/"
        },
        "outputId": "60782d82-21fd-4adc-8ae8-189ab55b849f"
      },
      "execution_count": 133,
      "outputs": [
        {
          "output_type": "execute_result",
          "data": {
            "text/plain": [
              "array([7.96030618e-01, 6.25903348e-01, 8.83439520e-01, 1.72373226e-01,\n",
              "       9.13355029e-01, 4.13408504e-01, 9.67349620e-01, 4.57747017e-01,\n",
              "       2.87482239e-01, 5.34705352e-01, 5.14736215e-02, 8.57710348e-01,\n",
              "       2.45313288e-01, 3.75975921e-01, 1.62533804e-01, 1.75398390e-01,\n",
              "       1.38928359e-01, 4.07617913e-01, 5.33055263e-01, 9.29030878e-01,\n",
              "       5.87783227e-01, 2.70584101e-02, 2.78834548e-02, 8.97618065e-02,\n",
              "       7.25382347e-01, 3.33852806e-01, 7.24205894e-03, 5.44285038e-01,\n",
              "       7.69950039e-01, 6.72487815e-01, 3.72018762e-01, 8.67060855e-01,\n",
              "       9.46601274e-01, 9.04248980e-01, 7.31768804e-01, 8.12837084e-01,\n",
              "       8.85074330e-01, 2.94984034e-01, 9.60260347e-02, 1.93885502e-01,\n",
              "       5.24147836e-01, 2.60973858e-01, 5.49204749e-01, 1.37614399e-01,\n",
              "       3.09070908e-01, 1.51227636e-01, 3.28749752e-01, 6.25826955e-01,\n",
              "       8.77710043e-01, 7.43976410e-01, 7.27093551e-01, 4.62193091e-01,\n",
              "       6.20937801e-01, 5.11023514e-01, 2.77963667e-01, 8.22126476e-01,\n",
              "       5.80464775e-01, 4.79488472e-01, 9.16777437e-01, 6.70089074e-01,\n",
              "       1.92113184e-01, 3.91223969e-01, 3.04823456e-01, 8.33982674e-01,\n",
              "       4.68365648e-01, 8.25655834e-02, 1.85665612e-01, 9.08970069e-01,\n",
              "       8.45365235e-02, 3.33486119e-01, 9.81054529e-01, 4.84301233e-01,\n",
              "       2.76420528e-01, 7.06391041e-01, 9.12132741e-01, 3.21736872e-01,\n",
              "       9.98609647e-02, 4.81505248e-01, 6.67216696e-02, 1.00000000e+00,\n",
              "       9.03897572e-01, 7.05413210e-01, 8.38795435e-01, 8.29322699e-01,\n",
              "       1.18867550e-01, 9.05685169e-01, 8.39482972e-01, 8.80887993e-01,\n",
              "       9.82322654e-01, 5.79410551e-01, 4.00421690e-01, 9.94652488e-01,\n",
              "       5.02834181e-01, 6.65077692e-01, 8.17573452e-01, 2.38987945e-01,\n",
              "       9.02889184e-01, 6.29784113e-01, 1.73182992e-01, 9.74087485e-01,\n",
              "       9.63086889e-01, 1.38042200e-01, 3.41155979e-01, 5.54980061e-01,\n",
              "       5.70762861e-01, 7.53158852e-01, 4.14462728e-01, 4.51024430e-02,\n",
              "       3.79871965e-01, 4.54737132e-01, 6.17408443e-02, 6.26438099e-01,\n",
              "       9.23545859e-01, 1.76406778e-01, 2.14557455e-01, 7.19163955e-02,\n",
              "       3.88290477e-01, 8.48115384e-02, 3.54112237e-01, 5.25385403e-01,\n",
              "       3.53791386e-01, 5.01321599e-01, 5.51634047e-01, 3.19811768e-01,\n",
              "       9.56792104e-01, 6.67247254e-01, 9.80290599e-01, 4.27006463e-01,\n",
              "       9.85882569e-01, 8.46404180e-01, 3.98664650e-01, 8.62874517e-01,\n",
              "       6.32625934e-01, 3.86319537e-01, 9.38304992e-01, 2.82027777e-01,\n",
              "       1.25620693e-01, 4.10856977e-01, 7.75985088e-01, 1.23802539e-01,\n",
              "       2.74495424e-01, 5.62008220e-01, 9.65607859e-02, 2.33991841e-01,\n",
              "       5.28181388e-01, 5.63490245e-01, 2.07712640e-01, 5.59869215e-01,\n",
              "       9.37449390e-01, 2.17857634e-01, 3.19429802e-01, 9.28144719e-01,\n",
              "       5.21321294e-01, 4.89832088e-02, 6.70929398e-01, 2.55137431e-01,\n",
              "       1.11472705e-01, 3.51071794e-01, 2.97352218e-01, 2.73639822e-01,\n",
              "       4.97838077e-01, 2.90369895e-01, 7.51279583e-01, 2.73517593e-01,\n",
              "       4.88670914e-01, 6.04146613e-01, 2.52998426e-01, 9.52361308e-01,\n",
              "       3.34937587e-01, 8.86006325e-02, 6.38294296e-01, 8.11446731e-01,\n",
              "       7.80797849e-01, 4.84759591e-01, 3.10797390e-01, 2.80713816e-01,\n",
              "       2.70736887e-02, 2.90293502e-02, 1.75703962e-01, 1.61846267e-01,\n",
              "       1.23833097e-01, 2.76787215e-01, 7.33892530e-01, 9.72116545e-01,\n",
              "       8.15266382e-01, 6.59577394e-02, 9.42705230e-01, 6.12045652e-01,\n",
              "       8.45426349e-01, 3.25327344e-01, 3.69146384e-01, 6.51632519e-01,\n",
              "       8.10499458e-01, 7.09752334e-01, 1.62915769e-01, 2.04045775e-01,\n",
              "       2.84854318e-01, 3.37611343e-01, 2.89132328e-01, 6.58462056e-01,\n",
              "       3.21400743e-01, 7.46512658e-02, 5.93405754e-01, 4.48747918e-01,\n",
              "       6.13863807e-01, 9.81787902e-01, 5.39304212e-01, 3.96388138e-01,\n",
              "       6.92136102e-01, 8.44326290e-01, 2.42822875e-01, 1.89194970e-01,\n",
              "       1.72357947e-01, 9.12209134e-01, 3.27466349e-01, 5.29571741e-01,\n",
              "       6.67766726e-01, 1.79370827e-02, 3.45097859e-01, 8.50621075e-01,\n",
              "       7.14931781e-01, 5.51374311e-01, 3.00331546e-01, 4.97089426e-01,\n",
              "       2.34221020e-01, 5.45369819e-01, 8.51308613e-01, 7.66497074e-01,\n",
              "       4.13515454e-01, 9.75370888e-01, 5.80281432e-02, 3.47985516e-01,\n",
              "       6.58813464e-02, 9.36975753e-01, 1.82334876e-01, 6.59164871e-01,\n",
              "       3.74111931e-01, 2.27345648e-02, 7.04909016e-01, 8.00980886e-01,\n",
              "       9.97173458e-01, 6.91906923e-01, 8.27137859e-01, 9.56318467e-01,\n",
              "       6.31724496e-01, 3.18711708e-01, 8.74287635e-01, 4.87295840e-01,\n",
              "       5.01016027e-01, 5.28716139e-01, 6.03596584e-01, 2.11746192e-01,\n",
              "       8.62385601e-01, 5.95957281e-01, 6.40112451e-01, 9.47808284e-01,\n",
              "       9.94774717e-01, 5.12001345e-01, 3.51300973e-01, 3.14540649e-01,\n",
              "       5.61458190e-01, 5.53085514e-02, 1.44016134e-01, 7.89201082e-01,\n",
              "       1.13688103e-01, 5.17226628e-01, 7.43197201e-01, 6.68652885e-01,\n",
              "       8.43990161e-02, 3.23173061e-01, 2.07575133e-01, 5.49556157e-01,\n",
              "       1.63969993e-01, 2.83112557e-01, 2.06979267e-01, 5.04866236e-01,\n",
              "       8.17481780e-01, 2.32112573e-01, 3.87236253e-01, 5.74475562e-03,\n",
              "       4.31987288e-01, 3.58130510e-01, 8.26755894e-01, 9.27671082e-01,\n",
              "       4.85798536e-01, 3.88718278e-01, 1.16896610e-01, 7.57864662e-01,\n",
              "       7.67398512e-01, 4.81123283e-01, 3.80742846e-02, 8.54074040e-01,\n",
              "       9.73904142e-01, 9.49336145e-01, 1.08050297e-01, 9.43912240e-02,\n",
              "       7.12746940e-02, 3.40162870e-01, 4.80496860e-01, 9.92406533e-01,\n",
              "       3.34387557e-01, 4.73483980e-02, 5.48318589e-01, 7.11524652e-02,\n",
              "       3.30995707e-01, 7.94273579e-01, 4.94125376e-01, 1.19173122e-02,\n",
              "       8.94929031e-01, 3.27726085e-02, 4.56448335e-01, 1.90081129e-01,\n",
              "       2.38819881e-01, 8.90284335e-01, 6.85734366e-01, 3.64196116e-01,\n",
              "       2.80362409e-01, 7.18094452e-04, 5.49877007e-02, 1.19952331e-01,\n",
              "       9.87043743e-01, 9.33492231e-01, 9.22384685e-01, 8.93187270e-02,\n",
              "       6.92151380e-01, 8.45472185e-01, 3.28765030e-01, 6.26972850e-01,\n",
              "       9.63652198e-01, 1.80440329e-01, 5.17073841e-01, 7.31738247e-01,\n",
              "       8.10545293e-01, 7.13190020e-01, 4.20742235e-01, 5.16065454e-01,\n",
              "       6.56109150e-01, 1.44932851e-01, 8.57954806e-01, 2.63647614e-01,\n",
              "       7.49736444e-01, 1.57782158e-01, 8.20338879e-01, 4.46395013e-01,\n",
              "       4.37395915e-01, 7.63777482e-01, 2.09546073e-01, 6.97376663e-01,\n",
              "       2.36054453e-01, 6.82877267e-01, 1.49913676e-01, 2.30202747e-01,\n",
              "       2.43999328e-01, 2.77428916e-01, 7.82020137e-01, 5.76431223e-01,\n",
              "       1.76972086e-01, 2.56955585e-01, 2.47834258e-01, 5.65048662e-01,\n",
              "       3.24593971e-01, 3.14143405e-01, 5.31664910e-01, 8.24754396e-01,\n",
              "       7.77558784e-01, 2.41829766e-01, 1.14711769e-01, 5.94001620e-01,\n",
              "       4.93437839e-01, 9.61665979e-01, 3.14739271e-02, 3.59047226e-01,\n",
              "       8.95509618e-01, 7.63166338e-02, 7.18308353e-01, 8.04617195e-01,\n",
              "       2.68582604e-01, 1.18546699e-01, 8.81621366e-01, 3.60116729e-02,\n",
              "       6.99378161e-01, 3.86166751e-01, 9.26846037e-01, 4.23920185e-01,\n",
              "       7.54411697e-01, 5.08426151e-01, 8.31614490e-02, 2.30355533e-01,\n",
              "       2.55458282e-01, 1.35536508e-01, 1.53229133e-01, 4.78862049e-01,\n",
              "       8.69795725e-01, 1.50402591e-01, 2.66871400e-01, 9.91520374e-01,\n",
              "       2.67925624e-01, 6.92731967e-02, 1.90050572e-01, 2.36528090e-01,\n",
              "       7.18400024e-01, 8.11492567e-01, 7.84235535e-01, 7.42586057e-01,\n",
              "       6.22817069e-01, 6.51968648e-01, 8.35709156e-01, 5.97851828e-01,\n",
              "       7.82203480e-01, 5.90181968e-01, 2.06963988e-01, 5.03720340e-01,\n",
              "       7.31539625e-01, 7.95648653e-01, 5.97255962e-01, 7.37513560e-01,\n",
              "       2.42379796e-01, 1.55964004e-01, 6.83977327e-01, 2.32418145e-01,\n",
              "       4.10154161e-01, 7.23273900e-01, 1.75719240e-01, 1.62992162e-01,\n",
              "       2.09775252e-01, 7.14565094e-01, 5.23872821e-01, 2.40347741e-01,\n",
              "       3.55991505e-03, 2.68124246e-01, 8.41698370e-02, 3.05984630e-01,\n",
              "       9.21070725e-01, 9.92085682e-01, 3.10323754e-01, 2.45191059e-01,\n",
              "       3.66808758e-01, 4.76310522e-01, 6.78431193e-01, 8.17772074e-01,\n",
              "       2.53884585e-01, 1.75092818e-02, 3.13012788e-01, 4.46868650e-01,\n",
              "       4.72918672e-01, 4.24042413e-01, 7.63578861e-01, 1.94649432e-01,\n",
              "       5.81442606e-01, 5.52825778e-01, 4.09191609e-01, 6.51082489e-01,\n",
              "       7.69247223e-01, 6.19776627e-01, 4.23935463e-01, 7.55557593e-01,\n",
              "       5.94368306e-01, 5.20939329e-01, 2.03358237e-02, 5.25003438e-01,\n",
              "       3.25144001e-01, 3.55395639e-01, 6.21640617e-01, 5.63734702e-01,\n",
              "       2.26046966e-01, 9.33629738e-01, 9.32697743e-01, 8.62798124e-01,\n",
              "       6.26896457e-01, 9.57922721e-01, 7.52043513e-01, 3.30812363e-01,\n",
              "       7.80522834e-01, 4.64133474e-01, 7.66466517e-01, 4.11223664e-01,\n",
              "       8.03486578e-01, 1.83786344e-01, 7.68024935e-01, 5.28104995e-01,\n",
              "       5.57760768e-01, 7.79315824e-01, 3.73607737e-01, 9.86233977e-01,\n",
              "       8.72759774e-01, 3.72706299e-01, 9.18626148e-01, 8.08742418e-01,\n",
              "       5.77974363e-01, 2.92707522e-01, 9.26601580e-01, 4.05585858e-01,\n",
              "       3.80651174e-01, 5.13177797e-01, 4.39534919e-01, 9.24202839e-01,\n",
              "       2.25680280e-01, 9.06128249e-01, 8.72713939e-01, 3.69268613e-01])"
            ]
          },
          "metadata": {},
          "execution_count": 133
        }
      ]
    },
    {
      "cell_type": "code",
      "source": [
        "X"
      ],
      "metadata": {
        "id": "vD9eRx2j1mXM",
        "colab": {
          "base_uri": "https://localhost:8080/"
        },
        "outputId": "32f42dcf-0133-4155-d817-d6715bd64580"
      },
      "execution_count": 134,
      "outputs": [
        {
          "output_type": "execute_result",
          "data": {
            "text/plain": [
              "array([7.96030618e-01, 6.25903348e-01, 8.83439520e-01, 1.72373226e-01,\n",
              "       9.13355029e-01, 4.13408504e-01, 9.67349620e-01, 4.57747017e-01,\n",
              "       2.87482239e-01, 5.34705352e-01, 5.14736215e-02, 8.57710348e-01,\n",
              "       2.45313288e-01, 3.75975921e-01, 1.62533804e-01, 1.75398390e-01,\n",
              "       1.38928359e-01, 4.07617913e-01, 5.33055263e-01, 9.29030878e-01,\n",
              "       5.87783227e-01, 2.70584101e-02, 2.78834548e-02, 8.97618065e-02,\n",
              "       7.25382347e-01, 3.33852806e-01, 7.24205894e-03, 5.44285038e-01,\n",
              "       7.69950039e-01, 6.72487815e-01, 3.72018762e-01, 8.67060855e-01,\n",
              "       9.46601274e-01, 9.04248980e-01, 7.31768804e-01, 8.12837084e-01,\n",
              "       8.85074330e-01, 2.94984034e-01, 9.60260347e-02, 1.93885502e-01,\n",
              "       5.24147836e-01, 2.60973858e-01, 5.49204749e-01, 1.37614399e-01,\n",
              "       3.09070908e-01, 1.51227636e-01, 3.28749752e-01, 6.25826955e-01,\n",
              "       8.77710043e-01, 7.43976410e-01, 7.27093551e-01, 4.62193091e-01,\n",
              "       6.20937801e-01, 5.11023514e-01, 2.77963667e-01, 8.22126476e-01,\n",
              "       5.80464775e-01, 4.79488472e-01, 9.16777437e-01, 6.70089074e-01,\n",
              "       1.92113184e-01, 3.91223969e-01, 3.04823456e-01, 8.33982674e-01,\n",
              "       4.68365648e-01, 8.25655834e-02, 1.85665612e-01, 9.08970069e-01,\n",
              "       8.45365235e-02, 3.33486119e-01, 9.81054529e-01, 4.84301233e-01,\n",
              "       2.76420528e-01, 7.06391041e-01, 9.12132741e-01, 3.21736872e-01,\n",
              "       9.98609647e-02, 4.81505248e-01, 6.67216696e-02, 1.00000000e+00,\n",
              "       9.03897572e-01, 7.05413210e-01, 8.38795435e-01, 8.29322699e-01,\n",
              "       1.18867550e-01, 9.05685169e-01, 8.39482972e-01, 8.80887993e-01,\n",
              "       9.82322654e-01, 5.79410551e-01, 4.00421690e-01, 9.94652488e-01,\n",
              "       5.02834181e-01, 6.65077692e-01, 8.17573452e-01, 2.38987945e-01,\n",
              "       9.02889184e-01, 6.29784113e-01, 1.73182992e-01, 9.74087485e-01,\n",
              "       9.63086889e-01, 1.38042200e-01, 3.41155979e-01, 5.54980061e-01,\n",
              "       5.70762861e-01, 7.53158852e-01, 4.14462728e-01, 4.51024430e-02,\n",
              "       3.79871965e-01, 4.54737132e-01, 6.17408443e-02, 6.26438099e-01,\n",
              "       9.23545859e-01, 1.76406778e-01, 2.14557455e-01, 7.19163955e-02,\n",
              "       3.88290477e-01, 8.48115384e-02, 3.54112237e-01, 5.25385403e-01,\n",
              "       3.53791386e-01, 5.01321599e-01, 5.51634047e-01, 3.19811768e-01,\n",
              "       9.56792104e-01, 6.67247254e-01, 9.80290599e-01, 4.27006463e-01,\n",
              "       9.85882569e-01, 8.46404180e-01, 3.98664650e-01, 8.62874517e-01,\n",
              "       6.32625934e-01, 3.86319537e-01, 9.38304992e-01, 2.82027777e-01,\n",
              "       1.25620693e-01, 4.10856977e-01, 7.75985088e-01, 1.23802539e-01,\n",
              "       2.74495424e-01, 5.62008220e-01, 9.65607859e-02, 2.33991841e-01,\n",
              "       5.28181388e-01, 5.63490245e-01, 2.07712640e-01, 5.59869215e-01,\n",
              "       9.37449390e-01, 2.17857634e-01, 3.19429802e-01, 9.28144719e-01,\n",
              "       5.21321294e-01, 4.89832088e-02, 6.70929398e-01, 2.55137431e-01,\n",
              "       1.11472705e-01, 3.51071794e-01, 2.97352218e-01, 2.73639822e-01,\n",
              "       4.97838077e-01, 2.90369895e-01, 7.51279583e-01, 2.73517593e-01,\n",
              "       4.88670914e-01, 6.04146613e-01, 2.52998426e-01, 9.52361308e-01,\n",
              "       3.34937587e-01, 8.86006325e-02, 6.38294296e-01, 8.11446731e-01,\n",
              "       7.80797849e-01, 4.84759591e-01, 3.10797390e-01, 2.80713816e-01,\n",
              "       2.70736887e-02, 2.90293502e-02, 1.75703962e-01, 1.61846267e-01,\n",
              "       1.23833097e-01, 2.76787215e-01, 7.33892530e-01, 9.72116545e-01,\n",
              "       8.15266382e-01, 6.59577394e-02, 9.42705230e-01, 6.12045652e-01,\n",
              "       8.45426349e-01, 3.25327344e-01, 3.69146384e-01, 6.51632519e-01,\n",
              "       8.10499458e-01, 7.09752334e-01, 1.62915769e-01, 2.04045775e-01,\n",
              "       2.84854318e-01, 3.37611343e-01, 2.89132328e-01, 6.58462056e-01,\n",
              "       3.21400743e-01, 7.46512658e-02, 5.93405754e-01, 4.48747918e-01,\n",
              "       6.13863807e-01, 9.81787902e-01, 5.39304212e-01, 3.96388138e-01,\n",
              "       6.92136102e-01, 8.44326290e-01, 2.42822875e-01, 1.89194970e-01,\n",
              "       1.72357947e-01, 9.12209134e-01, 3.27466349e-01, 5.29571741e-01,\n",
              "       6.67766726e-01, 1.79370827e-02, 3.45097859e-01, 8.50621075e-01,\n",
              "       7.14931781e-01, 5.51374311e-01, 3.00331546e-01, 4.97089426e-01,\n",
              "       2.34221020e-01, 5.45369819e-01, 8.51308613e-01, 7.66497074e-01,\n",
              "       4.13515454e-01, 9.75370888e-01, 5.80281432e-02, 3.47985516e-01,\n",
              "       6.58813464e-02, 9.36975753e-01, 1.82334876e-01, 6.59164871e-01,\n",
              "       3.74111931e-01, 2.27345648e-02, 7.04909016e-01, 8.00980886e-01,\n",
              "       9.97173458e-01, 6.91906923e-01, 8.27137859e-01, 9.56318467e-01,\n",
              "       6.31724496e-01, 3.18711708e-01, 8.74287635e-01, 4.87295840e-01,\n",
              "       5.01016027e-01, 5.28716139e-01, 6.03596584e-01, 2.11746192e-01,\n",
              "       8.62385601e-01, 5.95957281e-01, 6.40112451e-01, 9.47808284e-01,\n",
              "       9.94774717e-01, 5.12001345e-01, 3.51300973e-01, 3.14540649e-01,\n",
              "       5.61458190e-01, 5.53085514e-02, 1.44016134e-01, 7.89201082e-01,\n",
              "       1.13688103e-01, 5.17226628e-01, 7.43197201e-01, 6.68652885e-01,\n",
              "       8.43990161e-02, 3.23173061e-01, 2.07575133e-01, 5.49556157e-01,\n",
              "       1.63969993e-01, 2.83112557e-01, 2.06979267e-01, 5.04866236e-01,\n",
              "       8.17481780e-01, 2.32112573e-01, 3.87236253e-01, 5.74475562e-03,\n",
              "       4.31987288e-01, 3.58130510e-01, 8.26755894e-01, 9.27671082e-01,\n",
              "       4.85798536e-01, 3.88718278e-01, 1.16896610e-01, 7.57864662e-01,\n",
              "       7.67398512e-01, 4.81123283e-01, 3.80742846e-02, 8.54074040e-01,\n",
              "       9.73904142e-01, 9.49336145e-01, 1.08050297e-01, 9.43912240e-02,\n",
              "       7.12746940e-02, 3.40162870e-01, 4.80496860e-01, 9.92406533e-01,\n",
              "       3.34387557e-01, 4.73483980e-02, 5.48318589e-01, 7.11524652e-02,\n",
              "       3.30995707e-01, 7.94273579e-01, 4.94125376e-01, 1.19173122e-02,\n",
              "       8.94929031e-01, 3.27726085e-02, 4.56448335e-01, 1.90081129e-01,\n",
              "       2.38819881e-01, 8.90284335e-01, 6.85734366e-01, 3.64196116e-01,\n",
              "       2.80362409e-01, 7.18094452e-04, 5.49877007e-02, 1.19952331e-01,\n",
              "       9.87043743e-01, 9.33492231e-01, 9.22384685e-01, 8.93187270e-02,\n",
              "       6.92151380e-01, 8.45472185e-01, 3.28765030e-01, 6.26972850e-01,\n",
              "       9.63652198e-01, 1.80440329e-01, 5.17073841e-01, 7.31738247e-01,\n",
              "       8.10545293e-01, 7.13190020e-01, 4.20742235e-01, 5.16065454e-01,\n",
              "       6.56109150e-01, 1.44932851e-01, 8.57954806e-01, 2.63647614e-01,\n",
              "       7.49736444e-01, 1.57782158e-01, 8.20338879e-01, 4.46395013e-01,\n",
              "       4.37395915e-01, 7.63777482e-01, 2.09546073e-01, 6.97376663e-01,\n",
              "       2.36054453e-01, 6.82877267e-01, 1.49913676e-01, 2.30202747e-01,\n",
              "       2.43999328e-01, 2.77428916e-01, 7.82020137e-01, 5.76431223e-01,\n",
              "       1.76972086e-01, 2.56955585e-01, 2.47834258e-01, 5.65048662e-01,\n",
              "       3.24593971e-01, 3.14143405e-01, 5.31664910e-01, 8.24754396e-01,\n",
              "       7.77558784e-01, 2.41829766e-01, 1.14711769e-01, 5.94001620e-01,\n",
              "       4.93437839e-01, 9.61665979e-01, 3.14739271e-02, 3.59047226e-01,\n",
              "       8.95509618e-01, 7.63166338e-02, 7.18308353e-01, 8.04617195e-01,\n",
              "       2.68582604e-01, 1.18546699e-01, 8.81621366e-01, 3.60116729e-02,\n",
              "       6.99378161e-01, 3.86166751e-01, 9.26846037e-01, 4.23920185e-01,\n",
              "       7.54411697e-01, 5.08426151e-01, 8.31614490e-02, 2.30355533e-01,\n",
              "       2.55458282e-01, 1.35536508e-01, 1.53229133e-01, 4.78862049e-01,\n",
              "       8.69795725e-01, 1.50402591e-01, 2.66871400e-01, 9.91520374e-01,\n",
              "       2.67925624e-01, 6.92731967e-02, 1.90050572e-01, 2.36528090e-01,\n",
              "       7.18400024e-01, 8.11492567e-01, 7.84235535e-01, 7.42586057e-01,\n",
              "       6.22817069e-01, 6.51968648e-01, 8.35709156e-01, 5.97851828e-01,\n",
              "       7.82203480e-01, 5.90181968e-01, 2.06963988e-01, 5.03720340e-01,\n",
              "       7.31539625e-01, 7.95648653e-01, 5.97255962e-01, 7.37513560e-01,\n",
              "       2.42379796e-01, 1.55964004e-01, 6.83977327e-01, 2.32418145e-01,\n",
              "       4.10154161e-01, 7.23273900e-01, 1.75719240e-01, 1.62992162e-01,\n",
              "       2.09775252e-01, 7.14565094e-01, 5.23872821e-01, 2.40347741e-01,\n",
              "       3.55991505e-03, 2.68124246e-01, 8.41698370e-02, 3.05984630e-01,\n",
              "       9.21070725e-01, 9.92085682e-01, 3.10323754e-01, 2.45191059e-01,\n",
              "       3.66808758e-01, 4.76310522e-01, 6.78431193e-01, 8.17772074e-01,\n",
              "       2.53884585e-01, 1.75092818e-02, 3.13012788e-01, 4.46868650e-01,\n",
              "       4.72918672e-01, 4.24042413e-01, 7.63578861e-01, 1.94649432e-01,\n",
              "       5.81442606e-01, 5.52825778e-01, 4.09191609e-01, 6.51082489e-01,\n",
              "       7.69247223e-01, 6.19776627e-01, 4.23935463e-01, 7.55557593e-01,\n",
              "       5.94368306e-01, 5.20939329e-01, 2.03358237e-02, 5.25003438e-01,\n",
              "       3.25144001e-01, 3.55395639e-01, 6.21640617e-01, 5.63734702e-01,\n",
              "       2.26046966e-01, 9.33629738e-01, 9.32697743e-01, 8.62798124e-01,\n",
              "       6.26896457e-01, 9.57922721e-01, 7.52043513e-01, 3.30812363e-01,\n",
              "       7.80522834e-01, 4.64133474e-01, 7.66466517e-01, 4.11223664e-01,\n",
              "       8.03486578e-01, 1.83786344e-01, 7.68024935e-01, 5.28104995e-01,\n",
              "       5.57760768e-01, 7.79315824e-01, 3.73607737e-01, 9.86233977e-01,\n",
              "       8.72759774e-01, 3.72706299e-01, 9.18626148e-01, 8.08742418e-01,\n",
              "       5.77974363e-01, 2.92707522e-01, 9.26601580e-01, 4.05585858e-01,\n",
              "       3.80651174e-01, 5.13177797e-01, 4.39534919e-01, 9.24202839e-01,\n",
              "       2.25680280e-01, 9.06128249e-01, 8.72713939e-01, 3.69268613e-01])"
            ]
          },
          "metadata": {},
          "execution_count": 134
        }
      ]
    },
    {
      "cell_type": "markdown",
      "source": [
        "### Random Numbers"
      ],
      "metadata": {
        "id": "6GjEVk4y2AYF"
      }
    },
    {
      "cell_type": "code",
      "source": [
        "X = np.random.random(50000,)"
      ],
      "metadata": {
        "id": "IJ1jsvY73zgS"
      },
      "execution_count": 135,
      "outputs": []
    },
    {
      "cell_type": "code",
      "source": [
        "plt.hist(X,100);"
      ],
      "metadata": {
        "id": "U-yEFDkP1oqM",
        "colab": {
          "base_uri": "https://localhost:8080/",
          "height": 265
        },
        "outputId": "253f2024-f83e-4959-d141-d614607a6fb5"
      },
      "execution_count": 136,
      "outputs": [
        {
          "output_type": "display_data",
          "data": {
            "text/plain": [
              "<Figure size 432x288 with 1 Axes>"
            ],
            "image/png": "[encoded data removed]"
          },
          "metadata": {
            "needs_background": "light"
          }
        }
      ]
    },
    {
      "cell_type": "code",
      "source": [
        "np.random.random()"
      ],
      "metadata": {
        "id": "fMCyKfmP2Mv_",
        "colab": {
          "base_uri": "https://localhost:8080/"
        },
        "outputId": "06f38637-6930-4525-da98-d2677ee0acb8"
      },
      "execution_count": 137,
      "outputs": [
        {
          "output_type": "execute_result",
          "data": {
            "text/plain": [
              "0.27227379768031523"
            ]
          },
          "metadata": {},
          "execution_count": 137
        }
      ]
    },
    {
      "cell_type": "code",
      "source": [
        "r = np.random.random()"
      ],
      "metadata": {
        "id": "KQouRNY_2M9g"
      },
      "execution_count": 138,
      "outputs": []
    },
    {
      "cell_type": "code",
      "source": [
        "r"
      ],
      "metadata": {
        "id": "rkZJ6RZf2M_x",
        "colab": {
          "base_uri": "https://localhost:8080/"
        },
        "outputId": "ef2a750d-4177-460b-cf9a-7478281230ed"
      },
      "execution_count": 139,
      "outputs": [
        {
          "output_type": "execute_result",
          "data": {
            "text/plain": [
              "0.09272353766394892"
            ]
          },
          "metadata": {},
          "execution_count": 139
        }
      ]
    },
    {
      "cell_type": "code",
      "source": [
        "r = np.random.randint(1,10)"
      ],
      "metadata": {
        "id": "iaLlvCkO2NCE"
      },
      "execution_count": 140,
      "outputs": []
    },
    {
      "cell_type": "code",
      "source": [
        "r"
      ],
      "metadata": {
        "id": "lj0rWfIX2NFX",
        "colab": {
          "base_uri": "https://localhost:8080/"
        },
        "outputId": "e382fc50-8b1b-4a0d-ee1b-68f88a4fb6d5"
      },
      "execution_count": 141,
      "outputs": [
        {
          "output_type": "execute_result",
          "data": {
            "text/plain": [
              "1"
            ]
          },
          "metadata": {},
          "execution_count": 141
        }
      ]
    },
    {
      "cell_type": "code",
      "source": [
        "r = np.random.randint(1,10,size=(10,2)) #tool that givesrandom integer"
      ],
      "metadata": {
        "id": "XaGlEaSe2XGu"
      },
      "execution_count": 142,
      "outputs": []
    },
    {
      "cell_type": "code",
      "source": [
        "r"
      ],
      "metadata": {
        "id": "P2ILyP5p2XlN",
        "colab": {
          "base_uri": "https://localhost:8080/"
        },
        "outputId": "6916571c-ae9c-4770-bbb7-aeb0f00f52ff"
      },
      "execution_count": 143,
      "outputs": [
        {
          "output_type": "execute_result",
          "data": {
            "text/plain": [
              "array([[3, 9],\n",
              "       [4, 8],\n",
              "       [4, 5],\n",
              "       [6, 3],\n",
              "       [6, 4],\n",
              "       [3, 6],\n",
              "       [5, 3],\n",
              "       [5, 7],\n",
              "       [3, 4],\n",
              "       [7, 8]])"
            ]
          },
          "metadata": {},
          "execution_count": 143
        }
      ]
    },
    {
      "cell_type": "code",
      "source": [
        "np.random.randn()"
      ],
      "metadata": {
        "id": "V2tJ6KoqMW7o",
        "colab": {
          "base_uri": "https://localhost:8080/"
        },
        "outputId": "413288b8-9ea6-4bb9-e158-bacc1c0c2075"
      },
      "execution_count": 144,
      "outputs": [
        {
          "output_type": "execute_result",
          "data": {
            "text/plain": [
              "1.6404169309966858"
            ]
          },
          "metadata": {},
          "execution_count": 144
        }
      ]
    },
    {
      "cell_type": "code",
      "source": [
        "numbers = np.random.randn(2,4)"
      ],
      "metadata": {
        "id": "DdmTrXYeoojz"
      },
      "execution_count": 145,
      "outputs": []
    },
    {
      "cell_type": "code",
      "source": [
        "numbers = numbers.reshape(-1)"
      ],
      "metadata": {
        "id": "Smj2noqkooqw"
      },
      "execution_count": 146,
      "outputs": []
    },
    {
      "cell_type": "code",
      "source": [
        "numbers.shape"
      ],
      "metadata": {
        "colab": {
          "base_uri": "https://localhost:8080/"
        },
        "id": "345dMIrpooto",
        "outputId": "897e2675-2701-437e-8327-ce78bccb0e88"
      },
      "execution_count": 147,
      "outputs": [
        {
          "output_type": "execute_result",
          "data": {
            "text/plain": [
              "(8,)"
            ]
          },
          "metadata": {},
          "execution_count": 147
        }
      ]
    },
    {
      "cell_type": "code",
      "source": [
        "numbers = np.random.randn(100000,)"
      ],
      "metadata": {
        "id": "JUNtn5EipVOr"
      },
      "execution_count": 148,
      "outputs": []
    },
    {
      "cell_type": "code",
      "source": [
        "plt.hist(numbers,100);   #makes histogram total count"
      ],
      "metadata": {
        "colab": {
          "base_uri": "https://localhost:8080/",
          "height": 265
        },
        "id": "NC3nC65upVQ2",
        "outputId": "cba1fe04-cb9c-47e4-818c-ea2fba45b379"
      },
      "execution_count": 149,
      "outputs": [
        {
          "output_type": "display_data",
          "data": {
            "text/plain": [
              "<Figure size 432x288 with 1 Axes>"
            ],
            "image/png": "[encoded data removed]"
          },
          "metadata": {
            "needs_background": "light"
          }
        }
      ]
    },
    {
      "cell_type": "code",
      "source": [
        "numbers = np.random.rand(1000000,)"
      ],
      "metadata": {
        "id": "U7gor1hhqHHR"
      },
      "execution_count": 150,
      "outputs": []
    },
    {
      "cell_type": "code",
      "source": [
        "plt.hist(numbers,100); "
      ],
      "metadata": {
        "colab": {
          "base_uri": "https://localhost:8080/",
          "height": 265
        },
        "id": "06g3kJFCqHJh",
        "outputId": "6cf95e9d-656d-4ab8-be55-6902be9dde13"
      },
      "execution_count": 151,
      "outputs": [
        {
          "output_type": "display_data",
          "data": {
            "text/plain": [
              "<Figure size 432x288 with 1 Axes>"
            ],
            "image/png": "[encoded data removed]"
          },
          "metadata": {
            "needs_background": "light"
          }
        }
      ]
    },
    {
      "cell_type": "code",
      "source": [
        "np.random.seed(12345)\n",
        "data = np.random.randn(2, 100)\n",
        "\n",
        "fig, axs = plt.subplots(2, 2, figsize=(10, 10))\n",
        "axs[0, 0].hist(data[0])\n",
        "axs[1, 0].scatter(data[0], data[1])\n",
        "axs[0, 1].plot(data[0], data[1])\n",
        "axs[1, 1].hist2d(data[0], data[1])\n",
        "\n",
        "plt.show()"
      ],
      "metadata": {
        "id": "YDnLWblCDKzI",
        "colab": {
          "base_uri": "https://localhost:8080/",
          "height": 592
        },
        "outputId": "9d8811cf-a142-4c78-b8eb-9ee8ad38de0f"
      },
      "execution_count": 152,
      "outputs": [
        {
          "output_type": "display_data",
          "data": {
            "text/plain": [
              "<Figure size 720x720 with 4 Axes>"
            ],
            "image/png": "[encoded data removed]"
          },
          "metadata": {
            "needs_background": "light"
          }
        }
      ]
    },
    {
      "cell_type": "markdown",
      "source": [
        "Normal Dist Data"
      ],
      "metadata": {
        "id": "7_JnWdew9Wyi"
      }
    },
    {
      "cell_type": "code",
      "source": [
        "x= 50*np.random.randn(10000)+1000"
      ],
      "metadata": {
        "id": "xrmqKc_tobiv"
      },
      "execution_count": 220,
      "outputs": []
    },
    {
      "cell_type": "code",
      "source": [
        "plt.hist(x);"
      ],
      "metadata": {
        "colab": {
          "base_uri": "https://localhost:8080/",
          "height": 265
        },
        "id": "JZmVzv97obk1",
        "outputId": "ad208b80-209a-45b5-ae16-86c628794ba2"
      },
      "execution_count": 221,
      "outputs": [
        {
          "output_type": "display_data",
          "data": {
            "text/plain": [
              "<Figure size 432x288 with 1 Axes>"
            ],
            "image/png": "[encoded data removed]"
          },
          "metadata": {
            "needs_background": "light"
          }
        }
      ]
    },
    {
      "cell_type": "code",
      "source": [
        "x=2*np.random.rand(1000,) - 10"
      ],
      "metadata": {
        "id": "fsv8hEaRo9oZ"
      },
      "execution_count": 233,
      "outputs": []
    },
    {
      "cell_type": "code",
      "source": [
        "plt.hist(x);"
      ],
      "metadata": {
        "colab": {
          "base_uri": "https://localhost:8080/",
          "height": 265
        },
        "id": "88K8BSAEo9q2",
        "outputId": "8c441bd2-ef07-41e7-e704-2b4f8d2266c0"
      },
      "execution_count": 234,
      "outputs": [
        {
          "output_type": "display_data",
          "data": {
            "text/plain": [
              "<Figure size 432x288 with 1 Axes>"
            ],
            "image/png": "[encoded data removed]"
          },
          "metadata": {
            "needs_background": "light"
          }
        }
      ]
    },
    {
      "cell_type": "code",
      "source": [
        "mu = 100  # mean of distribution\n",
        "sigma = 15  # standard deviation of distribution\n",
        "x = mu + sigma * np.random.randn(10000)"
      ],
      "metadata": {
        "id": "uH9ty1AoDLjz"
      },
      "execution_count": 153,
      "outputs": []
    },
    {
      "cell_type": "code",
      "source": [],
      "metadata": {
        "id": "UIODBHoBp10P"
      },
      "execution_count": null,
      "outputs": []
    },
    {
      "cell_type": "code",
      "source": [
        "n,bins,patches = plt.hist(x)"
      ],
      "metadata": {
        "colab": {
          "base_uri": "https://localhost:8080/",
          "height": 265
        },
        "id": "f7BzdqIMp125",
        "outputId": "771afeaf-b5dd-4ba1-9db1-3dcda3114f7e"
      },
      "execution_count": 237,
      "outputs": [
        {
          "output_type": "display_data",
          "data": {
            "text/plain": [
              "<Figure size 432x288 with 1 Axes>"
            ],
            "image/png": "[encoded data removed]"
          },
          "metadata": {
            "needs_background": "light"
          }
        }
      ]
    },
    {
      "cell_type": "code",
      "source": [
        "bins"
      ],
      "metadata": {
        "colab": {
          "base_uri": "https://localhost:8080/"
        },
        "id": "e65kj687Cmki",
        "outputId": "ff8cf347-9fc2-4ee0-e95b-ec7cfb89f76b"
      },
      "execution_count": 236,
      "outputs": [
        {
          "output_type": "execute_result",
          "data": {
            "text/plain": [
              "array([-3.57357357, -3.42006006, -3.26654655, -3.11303303, -2.95951952,\n",
              "       -2.80600601, -2.65249249, -2.49897898, -2.34546547, -2.19195195,\n",
              "       -2.03843844, -1.88492492, -1.73141141, -1.5778979 , -1.42438438,\n",
              "       -1.27087087, -1.11735736, -0.96384384, -0.81033033, -0.65681682,\n",
              "       -0.5033033 , -0.34978979, -0.19627628, -0.04276276,  0.11075075,\n",
              "        0.26426426,  0.41777778,  0.57129129,  0.7248048 ,  0.87831832,\n",
              "        1.03183183,  1.18534535,  1.33885886,  1.49237237,  1.64588589,\n",
              "        1.7993994 ,  1.95291291,  2.10642643,  2.25993994,  2.41345345,\n",
              "        2.56696697,  2.72048048,  2.87399399,  3.02750751,  3.18102102,\n",
              "        3.33453453,  3.48804805,  3.64156156,  3.79507508,  3.94858859,\n",
              "        4.1021021 ])"
            ]
          },
          "metadata": {},
          "execution_count": 236
        }
      ]
    },
    {
      "cell_type": "code",
      "source": [
        "y = ((1 / (np.sqrt(2 * np.pi) * sigma)) * np.exp(-0.5 * (1 / sigma * (bins - mu))**2))\n",
        "plt.plot(y)"
      ],
      "metadata": {
        "colab": {
          "base_uri": "https://localhost:8080/",
          "height": 282
        },
        "id": "pSvHkNxKBtV0",
        "outputId": "351b9009-3ba0-48e1-e660-8590450a3ec7"
      },
      "execution_count": 156,
      "outputs": [
        {
          "output_type": "execute_result",
          "data": {
            "text/plain": [
              "[<matplotlib.lines.Line2D at 0x7fd3eacb7ed0>]"
            ]
          },
          "metadata": {},
          "execution_count": 156
        },
        {
          "output_type": "display_data",
          "data": {
            "text/plain": [
              "<Figure size 432x288 with 1 Axes>"
            ],
            "image/png": "[encoded data removed]"
          },
          "metadata": {
            "needs_background": "light"
          }
        }
      ]
    },
    {
      "cell_type": "code",
      "source": [
        "num_bins = 50                                       #combined 2 \n",
        "n,bins,patches = plt.hist(x, num_bins, density=1)\n",
        "y = ((1 / (np.sqrt(2 * np.pi) * sigma)) * np.exp(-0.5 * (1 / sigma * (bins - mu))**2))\n",
        "plt.plot(bins,y)"
      ],
      "metadata": {
        "colab": {
          "base_uri": "https://localhost:8080/",
          "height": 282
        },
        "id": "7aAvYtf6CqQ8",
        "outputId": "2b61c47c-fca7-44bf-8f36-6ea7913d5e0e"
      },
      "execution_count": 238,
      "outputs": [
        {
          "output_type": "execute_result",
          "data": {
            "text/plain": [
              "[<matplotlib.lines.Line2D at 0x7fd3eaaf3a90>]"
            ]
          },
          "metadata": {},
          "execution_count": 238
        },
        {
          "output_type": "display_data",
          "data": {
            "text/plain": [
              "<Figure size 432x288 with 1 Axes>"
            ],
            "image/png": "[encoded data removed]"
          },
          "metadata": {
            "needs_background": "light"
          }
        }
      ]
    },
    {
      "cell_type": "code",
      "source": [
        "def mean(x):\n",
        "    return np.sum(x)/x.shape[0]"
      ],
      "metadata": {
        "id": "8YGwI2mN4Osx"
      },
      "execution_count": 158,
      "outputs": []
    },
    {
      "cell_type": "code",
      "source": [
        "def var(x):\n",
        "    return mean((x - mean(x))**2)"
      ],
      "metadata": {
        "id": "fKKUt5Qh4O2j"
      },
      "execution_count": 159,
      "outputs": []
    },
    {
      "cell_type": "code",
      "source": [
        "def std(x):\n",
        "    return np.sqrt(var(x))"
      ],
      "metadata": {
        "id": "XIVE-C_m5AfO"
      },
      "execution_count": 160,
      "outputs": []
    },
    {
      "cell_type": "code",
      "source": [
        "mean(x)"
      ],
      "metadata": {
        "id": "CD1D_Um34O0j",
        "colab": {
          "base_uri": "https://localhost:8080/"
        },
        "outputId": "8d3b8137-f5e1-4a12-a218-d1733fa6bcb5"
      },
      "execution_count": 161,
      "outputs": [
        {
          "output_type": "execute_result",
          "data": {
            "text/plain": [
              "99.78475345251351"
            ]
          },
          "metadata": {},
          "execution_count": 161
        }
      ]
    },
    {
      "cell_type": "code",
      "source": [
        "std(x)"
      ],
      "metadata": {
        "id": "rSa3GCve44RA",
        "colab": {
          "base_uri": "https://localhost:8080/"
        },
        "outputId": "26e1c00e-a3c5-4561-bea4-faf6a7613a5b"
      },
      "execution_count": 162,
      "outputs": [
        {
          "output_type": "execute_result",
          "data": {
            "text/plain": [
              "14.967403929980673"
            ]
          },
          "metadata": {},
          "execution_count": 162
        }
      ]
    },
    {
      "cell_type": "code",
      "source": [],
      "metadata": {
        "id": "71JWahMOJ_vW"
      },
      "execution_count": 162,
      "outputs": []
    },
    {
      "cell_type": "markdown",
      "source": [
        "# Normal Random Number Generator"
      ],
      "metadata": {
        "id": "CwVhNQGvExWz"
      }
    },
    {
      "cell_type": "code",
      "metadata": {
        "id": "FQQe5WEEbw_0"
      },
      "source": [
        "#CDF PDF"
      ],
      "execution_count": 163,
      "outputs": []
    },
    {
      "cell_type": "code",
      "source": [
        "x=np.linspace(-10,10,100)\n",
        "y= 2.71**(-x**2)\n",
        "plt.plot(x,y)\n",
        "              "
      ],
      "metadata": {
        "colab": {
          "base_uri": "https://localhost:8080/",
          "height": 282
        },
        "id": "gRsScwugq2M5",
        "outputId": "fc66ee4a-bdba-4a1a-c9c7-2c6df95641c8"
      },
      "execution_count": 239,
      "outputs": [
        {
          "output_type": "execute_result",
          "data": {
            "text/plain": [
              "[<matplotlib.lines.Line2D at 0x7fd3e9712350>]"
            ]
          },
          "metadata": {},
          "execution_count": 239
        },
        {
          "output_type": "display_data",
          "data": {
            "text/plain": [
              "<Figure size 432x288 with 1 Axes>"
            ],
            "image/png": "[encoded data removed]"
          },
          "metadata": {
            "needs_background": "light"
          }
        }
      ]
    },
    {
      "cell_type": "markdown",
      "metadata": {
        "id": "yJ59vSNn1LEU"
      },
      "source": [
        "![alt text](https://wikimedia.org/api/rest_v1/media/math/render/svg/4abaca87a10ecfa77b5a205056523706fe6c9c3f)"
      ]
    },
    {
      "cell_type": "code",
      "metadata": {
        "id": "iyMyj1cd1LEV"
      },
      "source": [
        "def normal_pdf(x,mu,sigma):\n",
        "  \n",
        "  return (1/(np.sqrt(2*np.pi*sigma**2)))*np.exp((-(x-mu)**2)/(2*sigma**2))"
      ],
      "execution_count": 164,
      "outputs": []
    },
    {
      "cell_type": "code",
      "metadata": {
        "id": "CzBfKnfL1LEX"
      },
      "source": [
        "x = np.linspace(-6,6,1000)"
      ],
      "execution_count": 165,
      "outputs": []
    },
    {
      "cell_type": "code",
      "metadata": {
        "id": "s407zu5G1LEY"
      },
      "source": [
        "mu = 0"
      ],
      "execution_count": 166,
      "outputs": []
    },
    {
      "cell_type": "code",
      "metadata": {
        "id": "VJunvHrJ1LEb"
      },
      "source": [
        "sigma = 1"
      ],
      "execution_count": 167,
      "outputs": []
    },
    {
      "cell_type": "code",
      "metadata": {
        "id": "xGi4RlmT1LEe"
      },
      "source": [
        "pdf = normal_pdf(x,mu,sigma) #Use Normal for demo, replace with custom function pdf"
      ],
      "execution_count": 168,
      "outputs": []
    },
    {
      "cell_type": "code",
      "metadata": {
        "outputId": "ca9a19fc-00bd-41dd-e3d7-7805ab8ec267",
        "id": "N674Q86J1LEh",
        "colab": {
          "base_uri": "https://localhost:8080/",
          "height": 282
        }
      },
      "source": [
        "plt.plot(x,pdf,'.')"
      ],
      "execution_count": 169,
      "outputs": [
        {
          "output_type": "execute_result",
          "data": {
            "text/plain": [
              "[<matplotlib.lines.Line2D at 0x7fd3eaed3610>]"
            ]
          },
          "metadata": {},
          "execution_count": 169
        },
        {
          "output_type": "display_data",
          "data": {
            "text/plain": [
              "<Figure size 432x288 with 1 Axes>"
            ],
            "image/png": "[encoded data removed]"
          },
          "metadata": {
            "needs_background": "light"
          }
        }
      ]
    },
    {
      "cell_type": "code",
      "metadata": {
        "id": "yDZg1FK41wtf"
      },
      "source": [
        "def partial_sums(x):\n",
        "\n",
        "  y = np.zeros(x.shape)\n",
        "  \n",
        "  for n in range(x.shape[0]):\n",
        "    \n",
        "    y[n] = np.sum(x[0:n])\n",
        "    \n",
        "  y = y / np.max(y)\n",
        "    \n",
        "  return y"
      ],
      "execution_count": 170,
      "outputs": []
    },
    {
      "cell_type": "code",
      "metadata": {
        "id": "merifRSe3vT1"
      },
      "source": [
        "cdf = partial_sums(pdf)"
      ],
      "execution_count": 171,
      "outputs": []
    },
    {
      "cell_type": "code",
      "metadata": {
        "id": "TIR6Tm2NYSlH",
        "outputId": "90661bbd-0974-43f8-99bd-31c750289dfd",
        "colab": {
          "base_uri": "https://localhost:8080/",
          "height": 265
        }
      },
      "source": [
        "plt.plot(x,cdf,'.');"
      ],
      "execution_count": 172,
      "outputs": [
        {
          "output_type": "display_data",
          "data": {
            "text/plain": [
              "<Figure size 432x288 with 1 Axes>"
            ],
            "image/png": "[encoded data removed]"
          },
          "metadata": {
            "needs_background": "light"
          }
        }
      ]
    },
    {
      "cell_type": "code",
      "metadata": {
        "id": "dxKQae6QEbQF",
        "outputId": "41720555-88c0-4d3e-95fe-88810bad325b",
        "colab": {
          "base_uri": "https://localhost:8080/",
          "height": 268
        }
      },
      "source": [
        "d_cdf = cdf[1:] - cdf[0:-1] #Demo to show that the diff of the cdf gives you back the pdf\n",
        "plt.plot(x[1:],d_cdf,'.');  #Not required for sampling "
      ],
      "execution_count": 173,
      "outputs": [
        {
          "output_type": "display_data",
          "data": {
            "text/plain": [
              "<Figure size 432x288 with 1 Axes>"
            ],
            "image/png": "[encoded data removed]"
          },
          "metadata": {
            "needs_background": "light"
          }
        }
      ]
    },
    {
      "cell_type": "code",
      "metadata": {
        "id": "sikTuIG3c_y7",
        "outputId": "59001ca8-5374-49e5-8213-3d2000336f50",
        "colab": {
          "base_uri": "https://localhost:8080/",
          "height": 265
        }
      },
      "source": [
        "plt.plot(cdf,x,'.');"
      ],
      "execution_count": 174,
      "outputs": [
        {
          "output_type": "display_data",
          "data": {
            "text/plain": [
              "<Figure size 432x288 with 1 Axes>"
            ],
            "image/png": "[encoded data removed]"
          },
          "metadata": {
            "needs_background": "light"
          }
        }
      ]
    },
    {
      "cell_type": "code",
      "metadata": {
        "id": "HsmcFWw26gZk"
      },
      "source": [
        "def find_nearest(array, value):\n",
        "\n",
        "  idx = np.argmin(np.abs(array - value))\n",
        "  \n",
        "  return idx"
      ],
      "execution_count": 175,
      "outputs": []
    },
    {
      "cell_type": "code",
      "metadata": {
        "id": "u-_tbmzBcrby",
        "outputId": "e27f19ba-0978-431f-c020-825da00fe394",
        "colab": {
          "base_uri": "https://localhost:8080/"
        }
      },
      "source": [
        "find_nearest(cdf, 0.1)"
      ],
      "execution_count": 176,
      "outputs": [
        {
          "output_type": "execute_result",
          "data": {
            "text/plain": [
              "393"
            ]
          },
          "metadata": {},
          "execution_count": 176
        }
      ]
    },
    {
      "cell_type": "code",
      "metadata": {
        "id": "Zf6KSUgmEt26",
        "outputId": "6de8bb61-1058-420b-e31d-79afec8db08d",
        "colab": {
          "base_uri": "https://localhost:8080/"
        }
      },
      "source": [
        "x[393]"
      ],
      "execution_count": 177,
      "outputs": [
        {
          "output_type": "execute_result",
          "data": {
            "text/plain": [
              "-1.2792792792792795"
            ]
          },
          "metadata": {},
          "execution_count": 177
        }
      ]
    },
    {
      "cell_type": "code",
      "metadata": {
        "id": "M0O7iLuj5Qu5"
      },
      "source": [
        "xr = np.random.random((10000,))"
      ],
      "execution_count": 178,
      "outputs": []
    },
    {
      "cell_type": "code",
      "metadata": {
        "id": "AxX76gZp6gVV"
      },
      "source": [
        "w = np.zeros(xr.shape[0])\n",
        "\n",
        "for i in range(xr.shape[0]):\n",
        "  \n",
        "  w[i] = x[find_nearest(cdf, xr[i])]"
      ],
      "execution_count": 179,
      "outputs": []
    },
    {
      "cell_type": "code",
      "metadata": {
        "id": "0dBd_HybERUD",
        "outputId": "75733a6b-ae83-4265-c054-ba32a8afbc2c",
        "colab": {
          "base_uri": "https://localhost:8080/"
        }
      },
      "source": [
        "w.shape"
      ],
      "execution_count": 180,
      "outputs": [
        {
          "output_type": "execute_result",
          "data": {
            "text/plain": [
              "(10000,)"
            ]
          },
          "metadata": {},
          "execution_count": 180
        }
      ]
    },
    {
      "cell_type": "code",
      "metadata": {
        "id": "t4YdgMnK8j6D",
        "outputId": "69e37c3b-0b29-4c51-b2d9-00d76e637419",
        "colab": {
          "base_uri": "https://localhost:8080/",
          "height": 265
        }
      },
      "source": [
        "plt.hist(w,50);"
      ],
      "execution_count": 181,
      "outputs": [
        {
          "output_type": "display_data",
          "data": {
            "text/plain": [
              "<Figure size 432x288 with 1 Axes>"
            ],
            "image/png": "[encoded data removed]"
          },
          "metadata": {
            "needs_background": "light"
          }
        }
      ]
    },
    {
      "cell_type": "code",
      "source": [
        "num_bins = 50\n",
        "n,bins,patches = plt.hist(w, num_bins, density=1)\n",
        "y = ((1 / (np.sqrt(2 * np.pi) * sigma)) * np.exp(-0.5 * (1 / sigma * (bins - mu))**2))\n",
        "plt.plot(bins,y)"
      ],
      "metadata": {
        "colab": {
          "base_uri": "https://localhost:8080/",
          "height": 282
        },
        "id": "T2tZnucPEtG4",
        "outputId": "290f18dd-21a6-4b17-b3d7-a7a366505d70"
      },
      "execution_count": 182,
      "outputs": [
        {
          "output_type": "execute_result",
          "data": {
            "text/plain": [
              "[<matplotlib.lines.Line2D at 0x7fd3eb151e90>]"
            ]
          },
          "metadata": {},
          "execution_count": 182
        },
        {
          "output_type": "display_data",
          "data": {
            "text/plain": [
              "<Figure size 432x288 with 1 Axes>"
            ],
            "image/png": "[encoded data removed]"
          },
          "metadata": {
            "needs_background": "light"
          }
        }
      ]
    },
    {
      "cell_type": "markdown",
      "source": [
        "# Random Color"
      ],
      "metadata": {
        "id": "bJfwk8tnVV2E"
      }
    },
    {
      "cell_type": "code",
      "source": [
        "import numpy as np\n",
        "import matplotlib.pyplot as plt"
      ],
      "metadata": {
        "id": "wTzwJf55_yiu"
      },
      "execution_count": 183,
      "outputs": []
    },
    {
      "cell_type": "code",
      "source": [],
      "metadata": {
        "id": "rWi2pJSLrz4e"
      },
      "execution_count": null,
      "outputs": []
    },
    {
      "cell_type": "code",
      "source": [
        "z = np.random.randint(0,255,size=(1,1,3))"
      ],
      "metadata": {
        "id": "5cGg5jMIrz6i"
      },
      "execution_count": 240,
      "outputs": []
    },
    {
      "cell_type": "code",
      "source": [
        "z"
      ],
      "metadata": {
        "colab": {
          "base_uri": "https://localhost:8080/"
        },
        "id": "q6C2KdQ5r3N2",
        "outputId": "6d5239c4-7689-40fb-d1c7-9a909a3ad3ec"
      },
      "execution_count": 241,
      "outputs": [
        {
          "output_type": "execute_result",
          "data": {
            "text/plain": [
              "array([[[128, 250,  26]]])"
            ]
          },
          "metadata": {},
          "execution_count": 241
        }
      ]
    },
    {
      "cell_type": "code",
      "source": [
        "z = np.random.randint(0,255,size=(10,10,3))"
      ],
      "metadata": {
        "id": "r-t1JBhRrvk7"
      },
      "execution_count": null,
      "outputs": []
    },
    {
      "cell_type": "code",
      "source": [
        "plt.imshow(z)"
      ],
      "metadata": {
        "colab": {
          "base_uri": "https://localhost:8080/",
          "height": 282
        },
        "id": "j9Ta2_kzRsQm",
        "outputId": "7a7e6bf1-4d1b-46e2-8f22-4014ed2ca61c"
      },
      "execution_count": 185,
      "outputs": [
        {
          "output_type": "execute_result",
          "data": {
            "text/plain": [
              "<matplotlib.image.AxesImage at 0x7fd3eb05c110>"
            ]
          },
          "metadata": {},
          "execution_count": 185
        },
        {
          "output_type": "display_data",
          "data": {
            "text/plain": [
              "<Figure size 432x288 with 1 Axes>"
            ],
            "image/png": "[encoded data removed]"
          },
          "metadata": {
            "needs_background": "light"
          }
        }
      ]
    },
    {
      "cell_type": "code",
      "source": [
        "z = np.zeros((10,10,3))"
      ],
      "metadata": {
        "id": "ARBtvXpyUMrE"
      },
      "execution_count": 186,
      "outputs": []
    },
    {
      "cell_type": "code",
      "source": [
        "z.shape"
      ],
      "metadata": {
        "colab": {
          "base_uri": "https://localhost:8080/"
        },
        "id": "04rK-UwMr-OY",
        "outputId": "7a42f7e9-f778-4cad-a22c-b070de41a944"
      },
      "execution_count": 242,
      "outputs": [
        {
          "output_type": "execute_result",
          "data": {
            "text/plain": [
              "(1, 1, 3)"
            ]
          },
          "metadata": {},
          "execution_count": 242
        }
      ]
    },
    {
      "cell_type": "code",
      "source": [
        "plt.imshow(z)"
      ],
      "metadata": {
        "colab": {
          "base_uri": "https://localhost:8080/",
          "height": 282
        },
        "outputId": "7647ebb0-fd40-4aca-ba27-319bff67a4b6",
        "id": "yTL66sqlUMrF"
      },
      "execution_count": 187,
      "outputs": [
        {
          "output_type": "execute_result",
          "data": {
            "text/plain": [
              "<matplotlib.image.AxesImage at 0x7fd3eb12a750>"
            ]
          },
          "metadata": {},
          "execution_count": 187
        },
        {
          "output_type": "display_data",
          "data": {
            "text/plain": [
              "<Figure size 432x288 with 1 Axes>"
            ],
            "image/png": "[encoded data removed]"
          },
          "metadata": {
            "needs_background": "light"
          }
        }
      ]
    },
    {
      "cell_type": "code",
      "source": [
        "z = 0*np.ones((10,10,3))"
      ],
      "metadata": {
        "id": "1kGigXZlURDK"
      },
      "execution_count": 188,
      "outputs": []
    },
    {
      "cell_type": "code",
      "source": [
        "plt.imshow(z)"
      ],
      "metadata": {
        "colab": {
          "base_uri": "https://localhost:8080/",
          "height": 282
        },
        "outputId": "e2c7e5e1-0a07-41f8-ea87-e2138192638f",
        "id": "2n_nqptPURDK"
      },
      "execution_count": 189,
      "outputs": [
        {
          "output_type": "execute_result",
          "data": {
            "text/plain": [
              "<matplotlib.image.AxesImage at 0x7fd3f6021bd0>"
            ]
          },
          "metadata": {},
          "execution_count": 189
        },
        {
          "output_type": "display_data",
          "data": {
            "text/plain": [
              "<Figure size 432x288 with 1 Axes>"
            ],
            "image/png": "[encoded data removed]"
          },
          "metadata": {
            "needs_background": "light"
          }
        }
      ]
    },
    {
      "cell_type": "code",
      "source": [
        "z = 255*np.ones((10,10,3))"
      ],
      "metadata": {
        "id": "5wFWbdFpT_dS"
      },
      "execution_count": 190,
      "outputs": []
    },
    {
      "cell_type": "code",
      "source": [
        "plt.imshow(z)"
      ],
      "metadata": {
        "colab": {
          "base_uri": "https://localhost:8080/",
          "height": 300
        },
        "outputId": "7c674703-ca4f-46a8-a361-e714326283de",
        "id": "aEaFv5zzT_dZ"
      },
      "execution_count": 191,
      "outputs": [
        {
          "output_type": "stream",
          "name": "stderr",
          "text": [
            "WARNING:matplotlib.image:Clipping input data to the valid range for imshow with RGB data ([0..1] for floats or [0..255] for integers).\n"
          ]
        },
        {
          "output_type": "execute_result",
          "data": {
            "text/plain": [
              "<matplotlib.image.AxesImage at 0x7fd3eafee5d0>"
            ]
          },
          "metadata": {},
          "execution_count": 191
        },
        {
          "output_type": "display_data",
          "data": {
            "text/plain": [
              "<Figure size 432x288 with 1 Axes>"
            ],
            "image/png": "[encoded data removed]"
          },
          "metadata": {
            "needs_background": "light"
          }
        }
      ]
    },
    {
      "cell_type": "code",
      "source": [
        "z = np.ones((10,10,3))\n",
        "\n",
        "z[:,:,0] = 1\n",
        "z[:,:,1] = 0\n",
        "z[:,:,2] = 0\n",
        "\n",
        "plt.imshow(z)"
      ],
      "metadata": {
        "colab": {
          "base_uri": "https://localhost:8080/",
          "height": 282
        },
        "id": "RJYE-239RsYa",
        "outputId": "1b4f9d1f-e0a4-454c-8989-08b5930844e9"
      },
      "execution_count": 192,
      "outputs": [
        {
          "output_type": "execute_result",
          "data": {
            "text/plain": [
              "<matplotlib.image.AxesImage at 0x7fd3eaee2d90>"
            ]
          },
          "metadata": {},
          "execution_count": 192
        },
        {
          "output_type": "display_data",
          "data": {
            "text/plain": [
              "<Figure size 432x288 with 1 Axes>"
            ],
            "image/png": "[encoded data removed]"
          },
          "metadata": {
            "needs_background": "light"
          }
        }
      ]
    },
    {
      "cell_type": "code",
      "source": [
        "z = np.ones((10,10,3))\n",
        "\n",
        "z[:,:,0] = 0\n",
        "z[:,:,1] = 1\n",
        "z[:,:,2] = 0\n",
        "\n",
        "plt.imshow(z)"
      ],
      "metadata": {
        "colab": {
          "base_uri": "https://localhost:8080/",
          "height": 282
        },
        "id": "qhSydm4DRsfH",
        "outputId": "c5c4b141-70e9-47f2-eb84-5db9bd6974a9"
      },
      "execution_count": 193,
      "outputs": [
        {
          "output_type": "execute_result",
          "data": {
            "text/plain": [
              "<matplotlib.image.AxesImage at 0x7fd3eab049d0>"
            ]
          },
          "metadata": {},
          "execution_count": 193
        },
        {
          "output_type": "display_data",
          "data": {
            "text/plain": [
              "<Figure size 432x288 with 1 Axes>"
            ],
            "image/png": "[encoded data removed]"
          },
          "metadata": {
            "needs_background": "light"
          }
        }
      ]
    },
    {
      "cell_type": "code",
      "source": [
        "z = np.ones((10,10,3))\n",
        "\n",
        "z[:,:,0] = 0\n",
        "z[:,:,1] = 0\n",
        "z[:,:,2] = 1\n",
        "\n",
        "plt.imshow(z)"
      ],
      "metadata": {
        "colab": {
          "base_uri": "https://localhost:8080/",
          "height": 282
        },
        "id": "S4Qe-_esRsjT",
        "outputId": "35e5fe9e-fd77-473d-f868-4b45db8abdbe"
      },
      "execution_count": 194,
      "outputs": [
        {
          "output_type": "execute_result",
          "data": {
            "text/plain": [
              "<matplotlib.image.AxesImage at 0x7fd3f5ffa690>"
            ]
          },
          "metadata": {},
          "execution_count": 194
        },
        {
          "output_type": "display_data",
          "data": {
            "text/plain": [
              "<Figure size 432x288 with 1 Axes>"
            ],
            "image/png": "[encoded data removed]"
          },
          "metadata": {
            "needs_background": "light"
          }
        }
      ]
    },
    {
      "cell_type": "code",
      "source": [
        "z = np.ones((10,10,3))\n",
        "\n",
        "r = np.random.rand()\n",
        "g = np.random.rand()\n",
        "b = np.random.rand()\n",
        "\n",
        "print(r,g,b)\n",
        "\n",
        "z[:,:,0] = r\n",
        "z[:,:,1] = g\n",
        "z[:,:,2] = b\n",
        "\n",
        "plt.imshow(z);"
      ],
      "metadata": {
        "colab": {
          "base_uri": "https://localhost:8080/",
          "height": 282
        },
        "id": "Yp7kwqqgRsny",
        "outputId": "99b647d4-6c84-4237-b6a2-a143c7ce6c2b"
      },
      "execution_count": 195,
      "outputs": [
        {
          "output_type": "stream",
          "name": "stdout",
          "text": [
            "0.6304571722364933 0.5470745554516485 0.3596978915396898\n"
          ]
        },
        {
          "output_type": "display_data",
          "data": {
            "text/plain": [
              "<Figure size 432x288 with 1 Axes>"
            ],
            "image/png": "[encoded data removed]"
          },
          "metadata": {
            "needs_background": "light"
          }
        }
      ]
    },
    {
      "cell_type": "code",
      "source": [
        "for i in range(100):\n",
        "\n",
        "    z = np.ones((10,10,3))\n",
        "\n",
        "    r = np.random.rand()\n",
        "    g = np.random.rand()\n",
        "    b = np.random.rand()\n",
        "\n",
        "    print(r,g,b)\n",
        "\n",
        "    z[:,:,0] = r\n",
        "    z[:,:,1] = g\n",
        "    z[:,:,2] = b\n",
        "\n",
        "    plt.imshow(z);\n",
        "    plt.show()"
      ],
      "metadata": {
        "id": "mcnFf8iWVmFq",
        "colab": {
          "base_uri": "https://localhost:8080/",
          "height": 1000
        },
        "outputId": "62f38f6a-f4c4-46f6-c6e8-65b1889ff2d3"
      },
      "execution_count": 245,
      "outputs": [
        {
          "output_type": "stream",
          "name": "stdout",
          "text": [
            "0.7583219393790744 0.3463045591968339 0.2623260261863867\n"
          ]
        },
        {
          "output_type": "display_data",
          "data": {
            "text/plain": [
              "<Figure size 432x288 with 1 Axes>"
            ],
            "image/png": "[encoded data removed]"
          },
          "metadata": {
            "needs_background": "light"
          }
        },
        {
          "output_type": "stream",
          "name": "stdout",
          "text": [
            "0.4608510232753247 0.48703495092046933 0.9093011739235545\n"
          ]
        },
        {
          "output_type": "display_data",
          "data": {
            "text/plain": [
              "<Figure size 432x288 with 1 Axes>"
            ],
            "image/png": "[encoded data removed]"
          },
          "metadata": {
            "needs_background": "light"
          }
        },
        {
          "output_type": "stream",
          "name": "stdout",
          "text": [
            "0.7830285845328268 0.30183145605030604 0.6619389601860208\n"
          ]
        },
        {
          "output_type": "display_data",
          "data": {
            "text/plain": [
              "<Figure size 432x288 with 1 Axes>"
            ],
            "image/png": "[encoded data removed]"
          },
          "metadata": {
            "needs_background": "light"
          }
        },
        {
          "output_type": "stream",
          "name": "stdout",
          "text": [
            "0.7659477771171821 0.335566788497221 0.001263977694737961\n"
          ]
        },
        {
          "output_type": "display_data",
          "data": {
            "text/plain": [
              "<Figure size 432x288 with 1 Axes>"
            ],
            "image/png": "[encoded data removed]"
          },
          "metadata": {
            "needs_background": "light"
          }
        },
        {
          "output_type": "stream",
          "name": "stdout",
          "text": [
            "0.20000086458664446 0.885214965787244 0.18784864607663865\n"
          ]
        },
        {
          "output_type": "display_data",
          "data": {
            "text/plain": [
              "<Figure size 432x288 with 1 Axes>"
            ],
            "image/png": "[encoded data removed]"
          },
          "metadata": {
            "needs_background": "light"
          }
        },
        {
          "output_type": "stream",
          "name": "stdout",
          "text": [
            "0.7920549782576201 0.17572061308891984 0.25756276709717285\n"
          ]
        },
        {
          "output_type": "display_data",
          "data": {
            "text/plain": [
              "<Figure size 432x288 with 1 Axes>"
            ],
            "image/png": "[encoded data removed]"
          },
          "metadata": {
            "needs_background": "light"
          }
        },
        {
          "output_type": "stream",
          "name": "stdout",
          "text": [
            "0.6446396079742506 0.11225112463501674 0.03139830409711675\n"
          ]
        },
        {
          "output_type": "display_data",
          "data": {
            "text/plain": [
              "<Figure size 432x288 with 1 Axes>"
            ],
            "image/png": "[encoded data removed]"
          },
          "metadata": {
            "needs_background": "light"
          }
        },
        {
          "output_type": "stream",
          "name": "stdout",
          "text": [
            "0.8889350063226505 0.9561349033492644 0.06691550946914782\n"
          ]
        },
        {
          "output_type": "display_data",
          "data": {
            "text/plain": [
              "<Figure size 432x288 with 1 Axes>"
            ],
            "image/png": "[encoded data removed]"
          },
          "metadata": {
            "needs_background": "light"
          }
        },
        {
          "output_type": "stream",
          "name": "stdout",
          "text": [
            "0.7026727794858527 0.19282692930707568 0.7791282058540631\n"
          ]
        },
        {
          "output_type": "display_data",
          "data": {
            "text/plain": [
              "<Figure size 432x288 with 1 Axes>"
            ],
            "image/png": "[encoded data removed]"
          },
          "metadata": {
            "needs_background": "light"
          }
        },
        {
          "output_type": "stream",
          "name": "stdout",
          "text": [
            "0.9836286358765816 0.9198058765002163 0.15588396732137466\n"
          ]
        },
        {
          "output_type": "display_data",
          "data": {
            "text/plain": [
              "<Figure size 432x288 with 1 Axes>"
            ],
            "image/png": "[encoded data removed]"
          },
          "metadata": {
            "needs_background": "light"
          }
        },
        {
          "output_type": "stream",
          "name": "stdout",
          "text": [
            "0.7989915051012755 0.8977789366355948 0.09655519811386393\n"
          ]
        },
        {
          "output_type": "display_data",
          "data": {
            "text/plain": [
              "<Figure size 432x288 with 1 Axes>"
            ],
            "image/png": "[encoded data removed]"
          },
          "metadata": {
            "needs_background": "light"
          }
        },
        {
          "output_type": "stream",
          "name": "stdout",
          "text": [
            "0.30208823610465185 0.924270230574033 0.4625786857358378\n"
          ]
        },
        {
          "output_type": "display_data",
          "data": {
            "text/plain": [
              "<Figure size 432x288 with 1 Axes>"
            ],
            "image/png": "[encoded data removed]"
          },
          "metadata": {
            "needs_background": "light"
          }
        },
        {
          "output_type": "stream",
          "name": "stdout",
          "text": [
            "0.15037737071674806 0.20442892359860498 0.6656898201374865\n"
          ]
        },
        {
          "output_type": "display_data",
          "data": {
            "text/plain": [
              "<Figure size 432x288 with 1 Axes>"
            ],
            "image/png": "[encoded data removed]"
          },
          "metadata": {
            "needs_background": "light"
          }
        },
        {
          "output_type": "stream",
          "name": "stdout",
          "text": [
            "0.6406037820539621 0.47993682749440947 0.25241975626029767\n"
          ]
        },
        {
          "output_type": "display_data",
          "data": {
            "text/plain": [
              "<Figure size 432x288 with 1 Axes>"
            ],
            "image/png": "[encoded data removed]"
          },
          "metadata": {
            "needs_background": "light"
          }
        },
        {
          "output_type": "stream",
          "name": "stdout",
          "text": [
            "0.35106694308489106 0.4298952891706598 0.312784685287925\n"
          ]
        },
        {
          "output_type": "display_data",
          "data": {
            "text/plain": [
              "<Figure size 432x288 with 1 Axes>"
            ],
            "image/png": "[encoded data removed]"
          },
          "metadata": {
            "needs_background": "light"
          }
        },
        {
          "output_type": "stream",
          "name": "stdout",
          "text": [
            "0.5607963421504768 0.5175194975368348 0.11913440893778504\n"
          ]
        },
        {
          "output_type": "display_data",
          "data": {
            "text/plain": [
              "<Figure size 432x288 with 1 Axes>"
            ],
            "image/png": "[encoded data removed]"
          },
          "metadata": {
            "needs_background": "light"
          }
        },
        {
          "output_type": "stream",
          "name": "stdout",
          "text": [
            "0.08760599967690685 0.1949717240568073 0.6575233416417114\n"
          ]
        },
        {
          "output_type": "display_data",
          "data": {
            "text/plain": [
              "<Figure size 432x288 with 1 Axes>"
            ],
            "image/png": "[encoded data removed]"
          },
          "metadata": {
            "needs_background": "light"
          }
        },
        {
          "output_type": "stream",
          "name": "stdout",
          "text": [
            "0.25515253027077 0.16909734027051515 0.03881900154734963\n"
          ]
        },
        {
          "output_type": "display_data",
          "data": {
            "text/plain": [
              "<Figure size 432x288 with 1 Axes>"
            ],
            "image/png": "[encoded data removed]"
          },
          "metadata": {
            "needs_background": "light"
          }
        },
        {
          "output_type": "stream",
          "name": "stdout",
          "text": [
            "0.921878635688441 0.5979189989795072 0.39209458650169104\n"
          ]
        },
        {
          "output_type": "display_data",
          "data": {
            "text/plain": [
              "<Figure size 432x288 with 1 Axes>"
            ],
            "image/png": "[encoded data removed]"
          },
          "metadata": {
            "needs_background": "light"
          }
        },
        {
          "output_type": "stream",
          "name": "stdout",
          "text": [
            "0.07291752052841804 0.9856046609989982 0.7838532680480093\n"
          ]
        },
        {
          "output_type": "display_data",
          "data": {
            "text/plain": [
              "<Figure size 432x288 with 1 Axes>"
            ],
            "image/png": "[encoded data removed]"
          },
          "metadata": {
            "needs_background": "light"
          }
        },
        {
          "output_type": "stream",
          "name": "stdout",
          "text": [
            "0.4338188046044129 0.5650502292442698 0.42321488435313825\n"
          ]
        },
        {
          "output_type": "display_data",
          "data": {
            "text/plain": [
              "<Figure size 432x288 with 1 Axes>"
            ],
            "image/png": "[encoded data removed]"
          },
          "metadata": {
            "needs_background": "light"
          }
        },
        {
          "output_type": "stream",
          "name": "stdout",
          "text": [
            "0.3540740399772795 0.07970152736124869 0.9743382940297072\n"
          ]
        },
        {
          "output_type": "display_data",
          "data": {
            "text/plain": [
              "<Figure size 432x288 with 1 Axes>"
            ],
            "image/png": "[encoded data removed]"
          },
          "metadata": {
            "needs_background": "light"
          }
        },
        {
          "output_type": "stream",
          "name": "stdout",
          "text": [
            "0.5083497063764401 0.33248400582086124 0.30628833068582184\n"
          ]
        },
        {
          "output_type": "display_data",
          "data": {
            "text/plain": [
              "<Figure size 432x288 with 1 Axes>"
            ],
            "image/png": "[encoded data removed]"
          },
          "metadata": {
            "needs_background": "light"
          }
        },
        {
          "output_type": "stream",
          "name": "stdout",
          "text": [
            "0.4353273837609539 0.500886183459605 0.8107081000610876\n"
          ]
        },
        {
          "output_type": "display_data",
          "data": {
            "text/plain": [
              "<Figure size 432x288 with 1 Axes>"
            ],
            "image/png": "[encoded data removed]"
          },
          "metadata": {
            "needs_background": "light"
          }
        },
        {
          "output_type": "stream",
          "name": "stdout",
          "text": [
            "0.1610231433476521 0.3452412484819588 0.556540088725917\n"
          ]
        },
        {
          "output_type": "display_data",
          "data": {
            "text/plain": [
              "<Figure size 432x288 with 1 Axes>"
            ],
            "image/png": "[encoded data removed]"
          },
          "metadata": {
            "needs_background": "light"
          }
        },
        {
          "output_type": "stream",
          "name": "stdout",
          "text": [
            "0.3791491683316248 0.398190880880403 0.34356356243044917\n"
          ]
        },
        {
          "output_type": "display_data",
          "data": {
            "text/plain": [
              "<Figure size 432x288 with 1 Axes>"
            ],
            "image/png": "[encoded data removed]"
          },
          "metadata": {
            "needs_background": "light"
          }
        },
        {
          "output_type": "stream",
          "name": "stdout",
          "text": [
            "0.7262615084458829 0.7753489444049718 0.4894557380023059\n"
          ]
        },
        {
          "output_type": "display_data",
          "data": {
            "text/plain": [
              "<Figure size 432x288 with 1 Axes>"
            ],
            "image/png": "[encoded data removed]"
          },
          "metadata": {
            "needs_background": "light"
          }
        },
        {
          "output_type": "stream",
          "name": "stdout",
          "text": [
            "0.2743515745655146 0.503145569251496 0.3097004108684509\n"
          ]
        },
        {
          "output_type": "display_data",
          "data": {
            "text/plain": [
              "<Figure size 432x288 with 1 Axes>"
            ],
            "image/png": "[encoded data removed]"
          },
          "metadata": {
            "needs_background": "light"
          }
        },
        {
          "output_type": "stream",
          "name": "stdout",
          "text": [
            "0.6970937389164736 0.441772583896074 0.17478393254888547\n"
          ]
        },
        {
          "output_type": "display_data",
          "data": {
            "text/plain": [
              "<Figure size 432x288 with 1 Axes>"
            ],
            "image/png": "[encoded data removed]"
          },
          "metadata": {
            "needs_background": "light"
          }
        },
        {
          "output_type": "stream",
          "name": "stdout",
          "text": [
            "0.25076849514221455 0.893726937419755 0.4842273644399616\n"
          ]
        },
        {
          "output_type": "display_data",
          "data": {
            "text/plain": [
              "<Figure size 432x288 with 1 Axes>"
            ],
            "image/png": "[encoded data removed]"
          },
          "metadata": {
            "needs_background": "light"
          }
        },
        {
          "output_type": "stream",
          "name": "stdout",
          "text": [
            "0.35564225306544783 0.4616891127777 0.1430899991820319\n"
          ]
        },
        {
          "output_type": "display_data",
          "data": {
            "text/plain": [
              "<Figure size 432x288 with 1 Axes>"
            ],
            "image/png": "[encoded data removed]"
          },
          "metadata": {
            "needs_background": "light"
          }
        },
        {
          "output_type": "stream",
          "name": "stdout",
          "text": [
            "0.1516842146765457 0.062475626008814955 0.9730800345643473\n"
          ]
        },
        {
          "output_type": "display_data",
          "data": {
            "text/plain": [
              "<Figure size 432x288 with 1 Axes>"
            ],
            "image/png": "[encoded data removed]"
          },
          "metadata": {
            "needs_background": "light"
          }
        },
        {
          "output_type": "stream",
          "name": "stdout",
          "text": [
            "0.46583935708005186 0.06900193119785869 0.3476131815718848\n"
          ]
        },
        {
          "output_type": "display_data",
          "data": {
            "text/plain": [
              "<Figure size 432x288 with 1 Axes>"
            ],
            "image/png": "[encoded data removed]"
          },
          "metadata": {
            "needs_background": "light"
          }
        },
        {
          "output_type": "stream",
          "name": "stdout",
          "text": [
            "0.4373192631963607 0.2966399664720556 0.8800041486380924\n"
          ]
        },
        {
          "output_type": "display_data",
          "data": {
            "text/plain": [
              "<Figure size 432x288 with 1 Axes>"
            ],
            "image/png": "[encoded data removed]"
          },
          "metadata": {
            "needs_background": "light"
          }
        },
        {
          "output_type": "stream",
          "name": "stdout",
          "text": [
            "0.5199695245215511 0.6864094161111679 0.34743924426279693\n"
          ]
        },
        {
          "output_type": "display_data",
          "data": {
            "text/plain": [
              "<Figure size 432x288 with 1 Axes>"
            ],
            "image/png": "[encoded data removed]"
          },
          "metadata": {
            "needs_background": "light"
          }
        },
        {
          "output_type": "stream",
          "name": "stdout",
          "text": [
            "0.28237757152304077 0.41315478992387245 0.9942509712884302\n"
          ]
        },
        {
          "output_type": "display_data",
          "data": {
            "text/plain": [
              "<Figure size 432x288 with 1 Axes>"
            ],
            "image/png": "[encoded data removed]"
          },
          "metadata": {
            "needs_background": "light"
          }
        },
        {
          "output_type": "stream",
          "name": "stdout",
          "text": [
            "0.983766302522252 0.3894446549362064 0.5561902767420981\n"
          ]
        },
        {
          "output_type": "display_data",
          "data": {
            "text/plain": [
              "<Figure size 432x288 with 1 Axes>"
            ],
            "image/png": "[encoded data removed]"
          },
          "metadata": {
            "needs_background": "light"
          }
        },
        {
          "output_type": "stream",
          "name": "stdout",
          "text": [
            "0.2659712892180479 0.8048928241788313 0.40043046351828393\n"
          ]
        },
        {
          "output_type": "display_data",
          "data": {
            "text/plain": [
              "<Figure size 432x288 with 1 Axes>"
            ],
            "image/png": "[encoded data removed]"
          },
          "metadata": {
            "needs_background": "light"
          }
        },
        {
          "output_type": "stream",
          "name": "stdout",
          "text": [
            "0.4016634657184204 0.14226345313869615 0.6928649172801882\n"
          ]
        },
        {
          "output_type": "display_data",
          "data": {
            "text/plain": [
              "<Figure size 432x288 with 1 Axes>"
            ],
            "image/png": "[encoded data removed]"
          },
          "metadata": {
            "needs_background": "light"
          }
        },
        {
          "output_type": "stream",
          "name": "stdout",
          "text": [
            "0.9345759760307292 0.7573147100269634 0.35875170650441746\n"
          ]
        },
        {
          "output_type": "display_data",
          "data": {
            "text/plain": [
              "<Figure size 432x288 with 1 Axes>"
            ],
            "image/png": "[encoded data removed]"
          },
          "metadata": {
            "needs_background": "light"
          }
        },
        {
          "output_type": "stream",
          "name": "stdout",
          "text": [
            "0.49588442592711013 0.7440264147576359 0.8173474807094002\n"
          ]
        },
        {
          "output_type": "display_data",
          "data": {
            "text/plain": [
              "<Figure size 432x288 with 1 Axes>"
            ],
            "image/png": "[encoded data removed]"
          },
          "metadata": {
            "needs_background": "light"
          }
        },
        {
          "output_type": "stream",
          "name": "stdout",
          "text": [
            "0.9541066114433828 0.534322963577853 0.2899503139567511\n"
          ]
        },
        {
          "output_type": "display_data",
          "data": {
            "text/plain": [
              "<Figure size 432x288 with 1 Axes>"
            ],
            "image/png": "[encoded data removed]"
          },
          "metadata": {
            "needs_background": "light"
          }
        },
        {
          "output_type": "stream",
          "name": "stdout",
          "text": [
            "0.3034105348004644 0.9736622202883923 0.5648727976185015\n"
          ]
        },
        {
          "output_type": "display_data",
          "data": {
            "text/plain": [
              "<Figure size 432x288 with 1 Axes>"
            ],
            "image/png": "[encoded data removed]"
          },
          "metadata": {
            "needs_background": "light"
          }
        },
        {
          "output_type": "stream",
          "name": "stdout",
          "text": [
            "0.292308357274916 0.026561167827332977 0.7993409521813799\n"
          ]
        },
        {
          "output_type": "display_data",
          "data": {
            "text/plain": [
              "<Figure size 432x288 with 1 Axes>"
            ],
            "image/png": "[encoded data removed]"
          },
          "metadata": {
            "needs_background": "light"
          }
        },
        {
          "output_type": "stream",
          "name": "stdout",
          "text": [
            "0.5071119953194115 0.7772870697908942 0.015419320359922883\n"
          ]
        },
        {
          "output_type": "display_data",
          "data": {
            "text/plain": [
              "<Figure size 432x288 with 1 Axes>"
            ],
            "image/png": "[encoded data removed]"
          },
          "metadata": {
            "needs_background": "light"
          }
        },
        {
          "output_type": "stream",
          "name": "stdout",
          "text": [
            "0.3851141415532445 0.29933550823484756 0.8948809762888305\n"
          ]
        },
        {
          "output_type": "display_data",
          "data": {
            "text/plain": [
              "<Figure size 432x288 with 1 Axes>"
            ],
            "image/png": "[encoded data removed]"
          },
          "metadata": {
            "needs_background": "light"
          }
        },
        {
          "output_type": "stream",
          "name": "stdout",
          "text": [
            "0.30823524356715837 0.518256248467397 0.5799024558623916\n"
          ]
        },
        {
          "output_type": "display_data",
          "data": {
            "text/plain": [
              "<Figure size 432x288 with 1 Axes>"
            ],
            "image/png": "[encoded data removed]"
          },
          "metadata": {
            "needs_background": "light"
          }
        },
        {
          "output_type": "stream",
          "name": "stdout",
          "text": [
            "0.5731304773590001 0.21583450714393604 0.983038154794722\n"
          ]
        },
        {
          "output_type": "display_data",
          "data": {
            "text/plain": [
              "<Figure size 432x288 with 1 Axes>"
            ],
            "image/png": "[encoded data removed]"
          },
          "metadata": {
            "needs_background": "light"
          }
        },
        {
          "output_type": "stream",
          "name": "stdout",
          "text": [
            "0.26049136181539756 0.5639312593376593 0.04798991956099441\n"
          ]
        },
        {
          "output_type": "display_data",
          "data": {
            "text/plain": [
              "<Figure size 432x288 with 1 Axes>"
            ],
            "image/png": "[encoded data removed]"
          },
          "metadata": {
            "needs_background": "light"
          }
        },
        {
          "output_type": "stream",
          "name": "stdout",
          "text": [
            "0.0689181144360882 0.27076286067365574 0.8267455837665264\n"
          ]
        },
        {
          "output_type": "display_data",
          "data": {
            "text/plain": [
              "<Figure size 432x288 with 1 Axes>"
            ],
            "image/png": "[encoded data removed]"
          },
          "metadata": {
            "needs_background": "light"
          }
        },
        {
          "output_type": "stream",
          "name": "stdout",
          "text": [
            "0.9600007238928769 0.8698721195904608 0.16287960862969209\n"
          ]
        },
        {
          "output_type": "display_data",
          "data": {
            "text/plain": [
              "<Figure size 432x288 with 1 Axes>"
            ],
            "image/png": "[encoded data removed]"
          },
          "metadata": {
            "needs_background": "light"
          }
        },
        {
          "output_type": "stream",
          "name": "stdout",
          "text": [
            "0.04106409709321057 0.2025839743334753 0.40326746869033503\n"
          ]
        },
        {
          "output_type": "display_data",
          "data": {
            "text/plain": [
              "<Figure size 432x288 with 1 Axes>"
            ],
            "image/png": "[encoded data removed]"
          },
          "metadata": {
            "needs_background": "light"
          }
        },
        {
          "output_type": "stream",
          "name": "stdout",
          "text": [
            "0.3590993464467298 0.31739984109641184 0.17591826413362321\n"
          ]
        },
        {
          "output_type": "display_data",
          "data": {
            "text/plain": [
              "<Figure size 432x288 with 1 Axes>"
            ],
            "image/png": "[encoded data removed]"
          },
          "metadata": {
            "needs_background": "light"
          }
        },
        {
          "output_type": "stream",
          "name": "stdout",
          "text": [
            "0.4483960161140963 0.9130402520829944 0.1619600753231154\n"
          ]
        },
        {
          "output_type": "display_data",
          "data": {
            "text/plain": [
              "<Figure size 432x288 with 1 Axes>"
            ],
            "image/png": "[encoded data removed]"
          },
          "metadata": {
            "needs_background": "light"
          }
        },
        {
          "output_type": "stream",
          "name": "stdout",
          "text": [
            "0.2585875580495065 0.658043353574544 0.08367790300924205\n"
          ]
        },
        {
          "output_type": "display_data",
          "data": {
            "text/plain": [
              "<Figure size 432x288 with 1 Axes>"
            ],
            "image/png": "[encoded data removed]"
          },
          "metadata": {
            "needs_background": "light"
          }
        },
        {
          "output_type": "stream",
          "name": "stdout",
          "text": [
            "0.5694936690519568 0.3254392745590069 0.1625875903486943\n"
          ]
        },
        {
          "output_type": "display_data",
          "data": {
            "text/plain": [
              "<Figure size 432x288 with 1 Axes>"
            ],
            "image/png": "[encoded data removed]"
          },
          "metadata": {
            "needs_background": "light"
          }
        },
        {
          "output_type": "stream",
          "name": "stdout",
          "text": [
            "0.4253241573222597 0.6848546765126531 0.07183789090411818\n"
          ]
        },
        {
          "output_type": "display_data",
          "data": {
            "text/plain": [
              "<Figure size 432x288 with 1 Axes>"
            ],
            "image/png": "[encoded data removed]"
          },
          "metadata": {
            "needs_background": "light"
          }
        },
        {
          "output_type": "stream",
          "name": "stdout",
          "text": [
            "0.3572916626124718 0.47469510917090685 0.12248862373080083\n"
          ]
        },
        {
          "output_type": "display_data",
          "data": {
            "text/plain": [
              "<Figure size 432x288 with 1 Axes>"
            ],
            "image/png": "[encoded data removed]"
          },
          "metadata": {
            "needs_background": "light"
          }
        },
        {
          "output_type": "stream",
          "name": "stdout",
          "text": [
            "0.9657550436204854 0.030235165725895796 0.8351567717469663\n"
          ]
        },
        {
          "output_type": "display_data",
          "data": {
            "text/plain": [
              "<Figure size 432x288 with 1 Axes>"
            ],
            "image/png": "[encoded data removed]"
          },
          "metadata": {
            "needs_background": "light"
          }
        },
        {
          "output_type": "stream",
          "name": "stdout",
          "text": [
            "0.41483020089228684 0.321477995483025 0.4944192950739965\n"
          ]
        },
        {
          "output_type": "display_data",
          "data": {
            "text/plain": [
              "<Figure size 432x288 with 1 Axes>"
            ],
            "image/png": "[encoded data removed]"
          },
          "metadata": {
            "needs_background": "light"
          }
        },
        {
          "output_type": "stream",
          "name": "stdout",
          "text": [
            "0.063634178485238 0.6515543219157773 0.20534419931589365\n"
          ]
        },
        {
          "output_type": "display_data",
          "data": {
            "text/plain": [
              "<Figure size 432x288 with 1 Axes>"
            ],
            "image/png": "[encoded data removed]"
          },
          "metadata": {
            "needs_background": "light"
          }
        },
        {
          "output_type": "stream",
          "name": "stdout",
          "text": [
            "0.03176611424375608 0.036969109669524935 0.017029537980312925\n"
          ]
        },
        {
          "output_type": "display_data",
          "data": {
            "text/plain": [
              "<Figure size 432x288 with 1 Axes>"
            ],
            "image/png": "[encoded data removed]"
          },
          "metadata": {
            "needs_background": "light"
          }
        },
        {
          "output_type": "stream",
          "name": "stdout",
          "text": [
            "0.9531958527225327 0.6421911695007034 0.12394003554393784\n"
          ]
        },
        {
          "output_type": "display_data",
          "data": {
            "text/plain": [
              "<Figure size 432x288 with 1 Axes>"
            ],
            "image/png": "[encoded data removed]"
          },
          "metadata": {
            "needs_background": "light"
          }
        },
        {
          "output_type": "stream",
          "name": "stdout",
          "text": [
            "0.9666110100169345 0.23155901103686527 0.930743753002031\n"
          ]
        },
        {
          "output_type": "display_data",
          "data": {
            "text/plain": [
              "<Figure size 432x288 with 1 Axes>"
            ],
            "image/png": "[encoded data removed]"
          },
          "metadata": {
            "needs_background": "light"
          }
        },
        {
          "output_type": "stream",
          "name": "stdout",
          "text": [
            "0.08364234052502639 0.8210019704882042 0.25852211862846053\n"
          ]
        },
        {
          "output_type": "display_data",
          "data": {
            "text/plain": [
              "<Figure size 432x288 with 1 Axes>"
            ],
            "image/png": "[encoded data removed]"
          },
          "metadata": {
            "needs_background": "light"
          }
        },
        {
          "output_type": "stream",
          "name": "stdout",
          "text": [
            "0.28977872069732924 0.9034562060450771 0.041493494590447155\n"
          ]
        },
        {
          "output_type": "display_data",
          "data": {
            "text/plain": [
              "<Figure size 432x288 with 1 Axes>"
            ],
            "image/png": "[encoded data removed]"
          },
          "metadata": {
            "needs_background": "light"
          }
        },
        {
          "output_type": "stream",
          "name": "stdout",
          "text": [
            "0.08202385486789054 0.012240060498912575 0.0005013607525085062\n"
          ]
        },
        {
          "output_type": "display_data",
          "data": {
            "text/plain": [
              "<Figure size 432x288 with 1 Axes>"
            ],
            "image/png": "[encoded data removed]"
          },
          "metadata": {
            "needs_background": "light"
          }
        },
        {
          "output_type": "stream",
          "name": "stdout",
          "text": [
            "0.6543591978559636 0.7287743173916659 0.5510139803630696\n"
          ]
        },
        {
          "output_type": "display_data",
          "data": {
            "text/plain": [
              "<Figure size 432x288 with 1 Axes>"
            ],
            "image/png": "[encoded data removed]"
          },
          "metadata": {
            "needs_background": "light"
          }
        },
        {
          "output_type": "stream",
          "name": "stdout",
          "text": [
            "0.9780604405323287 0.4275427267330024 0.6635557643212601\n"
          ]
        },
        {
          "output_type": "display_data",
          "data": {
            "text/plain": [
              "<Figure size 432x288 with 1 Axes>"
            ],
            "image/png": "[encoded data removed]"
          },
          "metadata": {
            "needs_background": "light"
          }
        },
        {
          "output_type": "stream",
          "name": "stdout",
          "text": [
            "0.6733060623906378 0.4710933630430679 0.7417096399358055\n"
          ]
        },
        {
          "output_type": "display_data",
          "data": {
            "text/plain": [
              "<Figure size 432x288 with 1 Axes>"
            ],
            "image/png": "[encoded data removed]"
          },
          "metadata": {
            "needs_background": "light"
          }
        },
        {
          "output_type": "stream",
          "name": "stdout",
          "text": [
            "0.9226549198356668 0.10085484674446676 0.40176224542312167\n"
          ]
        },
        {
          "output_type": "display_data",
          "data": {
            "text/plain": [
              "<Figure size 432x288 with 1 Axes>"
            ],
            "image/png": "[encoded data removed]"
          },
          "metadata": {
            "needs_background": "light"
          }
        },
        {
          "output_type": "stream",
          "name": "stdout",
          "text": [
            "0.5820427456762957 0.35173632140454314 0.029611475288221834\n"
          ]
        },
        {
          "output_type": "display_data",
          "data": {
            "text/plain": [
              "<Figure size 432x288 with 1 Axes>"
            ],
            "image/png": "[encoded data removed]"
          },
          "metadata": {
            "needs_background": "light"
          }
        },
        {
          "output_type": "stream",
          "name": "stdout",
          "text": [
            "0.42304811376839413 0.5529897587625929 0.3902287703585182\n"
          ]
        },
        {
          "output_type": "display_data",
          "data": {
            "text/plain": [
              "<Figure size 432x288 with 1 Axes>"
            ],
            "image/png": "[encoded data removed]"
          },
          "metadata": {
            "needs_background": "light"
          }
        },
        {
          "output_type": "stream",
          "name": "stdout",
          "text": [
            "0.6158764814783738 0.45007412688275317 0.4306460326630691\n"
          ]
        },
        {
          "output_type": "display_data",
          "data": {
            "text/plain": [
              "<Figure size 432x288 with 1 Axes>"
            ],
            "image/png": "[encoded data removed]"
          },
          "metadata": {
            "needs_background": "light"
          }
        },
        {
          "output_type": "stream",
          "name": "stdout",
          "text": [
            "0.9363789956138556 0.03433646789857758 0.11481243431298749\n"
          ]
        },
        {
          "output_type": "display_data",
          "data": {
            "text/plain": [
              "<Figure size 432x288 with 1 Axes>"
            ],
            "image/png": "[encoded data removed]"
          },
          "metadata": {
            "needs_background": "light"
          }
        },
        {
          "output_type": "stream",
          "name": "stdout",
          "text": [
            "0.24608864658953988 0.7250335601592263 0.24111496267198462\n"
          ]
        },
        {
          "output_type": "display_data",
          "data": {
            "text/plain": [
              "<Figure size 432x288 with 1 Axes>"
            ],
            "image/png": "[encoded data removed]"
          },
          "metadata": {
            "needs_background": "light"
          }
        },
        {
          "output_type": "stream",
          "name": "stdout",
          "text": [
            "0.8639755507806269 0.4423428897145868 0.48125620049014384\n"
          ]
        },
        {
          "output_type": "display_data",
          "data": {
            "text/plain": [
              "<Figure size 432x288 with 1 Axes>"
            ],
            "image/png": "[encoded data removed]"
          },
          "metadata": {
            "needs_background": "light"
          }
        },
        {
          "output_type": "stream",
          "name": "stdout",
          "text": [
            "0.2686744350242348 0.6482362542872344 0.4140093557129163\n"
          ]
        },
        {
          "output_type": "display_data",
          "data": {
            "text/plain": [
              "<Figure size 432x288 with 1 Axes>"
            ],
            "image/png": "[encoded data removed]"
          },
          "metadata": {
            "needs_background": "light"
          }
        },
        {
          "output_type": "stream",
          "name": "stdout",
          "text": [
            "0.41782612164035726 0.968965556151837 0.8877955903269277\n"
          ]
        },
        {
          "output_type": "display_data",
          "data": {
            "text/plain": [
              "<Figure size 432x288 with 1 Axes>"
            ],
            "image/png": "[encoded data removed]"
          },
          "metadata": {
            "needs_background": "light"
          }
        },
        {
          "output_type": "stream",
          "name": "stdout",
          "text": [
            "0.07810592377686343 0.3520556270006032 0.40579617962145\n"
          ]
        },
        {
          "output_type": "display_data",
          "data": {
            "text/plain": [
              "<Figure size 432x288 with 1 Axes>"
            ],
            "image/png": "[encoded data removed]"
          },
          "metadata": {
            "needs_background": "light"
          }
        },
        {
          "output_type": "stream",
          "name": "stdout",
          "text": [
            "0.9375794952685649 0.700789564871184 0.9277153737862247\n"
          ]
        },
        {
          "output_type": "display_data",
          "data": {
            "text/plain": [
              "<Figure size 432x288 with 1 Axes>"
            ],
            "image/png": "[encoded data removed]"
          },
          "metadata": {
            "needs_background": "light"
          }
        },
        {
          "output_type": "stream",
          "name": "stdout",
          "text": [
            "0.787294108527328 0.7868401289817541 0.5786352390589176\n"
          ]
        },
        {
          "output_type": "display_data",
          "data": {
            "text/plain": [
              "<Figure size 432x288 with 1 Axes>"
            ],
            "image/png": "[encoded data removed]"
          },
          "metadata": {
            "needs_background": "light"
          }
        },
        {
          "output_type": "stream",
          "name": "stdout",
          "text": [
            "0.8930978044933356 0.9529273682125933 0.6538222691159047\n"
          ]
        },
        {
          "output_type": "display_data",
          "data": {
            "text/plain": [
              "<Figure size 432x288 with 1 Axes>"
            ],
            "image/png": "[encoded data removed]"
          },
          "metadata": {
            "needs_background": "light"
          }
        },
        {
          "output_type": "stream",
          "name": "stdout",
          "text": [
            "0.640337511243174 0.920726988402776 0.7820515378609785\n"
          ]
        },
        {
          "output_type": "display_data",
          "data": {
            "text/plain": [
              "<Figure size 432x288 with 1 Axes>"
            ],
            "image/png": "[encoded data removed]"
          },
          "metadata": {
            "needs_background": "light"
          }
        },
        {
          "output_type": "stream",
          "name": "stdout",
          "text": [
            "0.24236092173007318 0.6919279489581531 0.9497517178393131\n"
          ]
        },
        {
          "output_type": "display_data",
          "data": {
            "text/plain": [
              "<Figure size 432x288 with 1 Axes>"
            ],
            "image/png": "[encoded data removed]"
          },
          "metadata": {
            "needs_background": "light"
          }
        },
        {
          "output_type": "stream",
          "name": "stdout",
          "text": [
            "0.8954165493984712 0.8056087854420616 0.8448735437650801\n"
          ]
        },
        {
          "output_type": "display_data",
          "data": {
            "text/plain": [
              "<Figure size 432x288 with 1 Axes>"
            ],
            "image/png": "[encoded data removed]"
          },
          "metadata": {
            "needs_background": "light"
          }
        },
        {
          "output_type": "stream",
          "name": "stdout",
          "text": [
            "0.9756566027577432 0.0009371133947250199 0.369792897692813\n"
          ]
        },
        {
          "output_type": "display_data",
          "data": {
            "text/plain": [
              "<Figure size 432x288 with 1 Axes>"
            ],
            "image/png": "[encoded data removed]"
          },
          "metadata": {
            "needs_background": "light"
          }
        },
        {
          "output_type": "stream",
          "name": "stdout",
          "text": [
            "0.8062053118761342 0.7016716006585417 0.6207491700139014\n"
          ]
        },
        {
          "output_type": "display_data",
          "data": {
            "text/plain": [
              "<Figure size 432x288 with 1 Axes>"
            ],
            "image/png": "[encoded data removed]"
          },
          "metadata": {
            "needs_background": "light"
          }
        },
        {
          "output_type": "stream",
          "name": "stdout",
          "text": [
            "0.7400433008684869 0.25634254218975794 0.8719420262193762\n"
          ]
        },
        {
          "output_type": "display_data",
          "data": {
            "text/plain": [
              "<Figure size 432x288 with 1 Axes>"
            ],
            "image/png": "[encoded data removed]"
          },
          "metadata": {
            "needs_background": "light"
          }
        },
        {
          "output_type": "stream",
          "name": "stdout",
          "text": [
            "0.8262391277585179 0.6201256801680761 0.04259796721751874\n"
          ]
        },
        {
          "output_type": "display_data",
          "data": {
            "text/plain": [
              "<Figure size 432x288 with 1 Axes>"
            ],
            "image/png": "[encoded data removed]"
          },
          "metadata": {
            "needs_background": "light"
          }
        },
        {
          "output_type": "stream",
          "name": "stdout",
          "text": [
            "0.31936640290418417 0.2443093558035715 0.31959660008513757\n"
          ]
        },
        {
          "output_type": "display_data",
          "data": {
            "text/plain": [
              "<Figure size 432x288 with 1 Axes>"
            ],
            "image/png": "[encoded data removed]"
          },
          "metadata": {
            "needs_background": "light"
          }
        },
        {
          "output_type": "stream",
          "name": "stdout",
          "text": [
            "0.6473505928996414 0.9780356686278728 0.06984536130535413\n"
          ]
        },
        {
          "output_type": "display_data",
          "data": {
            "text/plain": [
              "<Figure size 432x288 with 1 Axes>"
            ],
            "image/png": "[encoded data removed]"
          },
          "metadata": {
            "needs_background": "light"
          }
        },
        {
          "output_type": "stream",
          "name": "stdout",
          "text": [
            "0.0074131921369833265 0.775662303830616 0.8077316436202342\n"
          ]
        },
        {
          "output_type": "display_data",
          "data": {
            "text/plain": [
              "<Figure size 432x288 with 1 Axes>"
            ],
            "image/png": "[encoded data removed]"
          },
          "metadata": {
            "needs_background": "light"
          }
        },
        {
          "output_type": "stream",
          "name": "stdout",
          "text": [
            "0.2503944575311099 0.7922457638388511 0.9701207021872338\n"
          ]
        },
        {
          "output_type": "display_data",
          "data": {
            "text/plain": [
              "<Figure size 432x288 with 1 Axes>"
            ],
            "image/png": "[encoded data removed]"
          },
          "metadata": {
            "needs_background": "light"
          }
        },
        {
          "output_type": "stream",
          "name": "stdout",
          "text": [
            "0.36580444778538923 0.7414450028998579 0.008075853076595307\n"
          ]
        },
        {
          "output_type": "display_data",
          "data": {
            "text/plain": [
              "<Figure size 432x288 with 1 Axes>"
            ],
            "image/png": "[encoded data removed]"
          },
          "metadata": {
            "needs_background": "light"
          }
        },
        {
          "output_type": "stream",
          "name": "stdout",
          "text": [
            "0.6591300347468253 0.3369087232882727 0.4830647230514874\n"
          ]
        },
        {
          "output_type": "display_data",
          "data": {
            "text/plain": [
              "<Figure size 432x288 with 1 Axes>"
            ],
            "image/png": "[encoded data removed]"
          },
          "metadata": {
            "needs_background": "light"
          }
        },
        {
          "output_type": "stream",
          "name": "stdout",
          "text": [
            "0.5906110265730408 0.6661809918489309 0.6195245701280861\n"
          ]
        },
        {
          "output_type": "display_data",
          "data": {
            "text/plain": [
              "<Figure size 432x288 with 1 Axes>"
            ],
            "image/png": "[encoded data removed]"
          },
          "metadata": {
            "needs_background": "light"
          }
        },
        {
          "output_type": "stream",
          "name": "stdout",
          "text": [
            "0.4758616539730828 0.0835995708219811 0.39962307532959385\n"
          ]
        },
        {
          "output_type": "display_data",
          "data": {
            "text/plain": [
              "<Figure size 432x288 with 1 Axes>"
            ],
            "image/png": "[encoded data removed]"
          },
          "metadata": {
            "needs_background": "light"
          }
        },
        {
          "output_type": "stream",
          "name": "stdout",
          "text": [
            "0.012605674044624426 0.7797042996498561 0.9637788626601291\n"
          ]
        },
        {
          "output_type": "display_data",
          "data": {
            "text/plain": [
              "<Figure size 432x288 with 1 Axes>"
            ],
            "image/png": "[encoded data removed]"
          },
          "metadata": {
            "needs_background": "light"
          }
        },
        {
          "output_type": "stream",
          "name": "stdout",
          "text": [
            "0.9745818495333168 0.8927412754658441 0.5113889455644073\n"
          ]
        },
        {
          "output_type": "display_data",
          "data": {
            "text/plain": [
              "<Figure size 432x288 with 1 Axes>"
            ],
            "image/png": "[encoded data removed]"
          },
          "metadata": {
            "needs_background": "light"
          }
        }
      ]
    },
    {
      "cell_type": "code",
      "source": [],
      "metadata": {
        "id": "6Ek2JjDXaWd_"
      },
      "execution_count": 196,
      "outputs": []
    },
    {
      "cell_type": "code",
      "source": [
        "z1 = np.ones((10,10,3))\n",
        "z1[:,:,0] = np.random.rand()\n",
        "z1[:,:,1] = np.random.rand()\n",
        "z1[:,:,2] = np.random.rand()\n",
        "\n",
        "z2 = np.ones((10,10,3))\n",
        "z2[:,:,0] = np.random.rand()\n",
        "z2[:,:,1] = np.random.rand()\n",
        "z2[:,:,2] = np.random.rand()\n",
        "\n",
        "z3 = np.hstack((z1,z2))\n",
        "\n",
        "plt.imshow(z3);\n",
        "plt.show()"
      ],
      "metadata": {
        "colab": {
          "base_uri": "https://localhost:8080/",
          "height": 215
        },
        "id": "mX-00vpRaWgy",
        "outputId": "a3a461a3-dedb-491e-f858-f168cd1b1a0a"
      },
      "execution_count": 246,
      "outputs": [
        {
          "output_type": "display_data",
          "data": {
            "text/plain": [
              "<Figure size 432x288 with 1 Axes>"
            ],
            "image/png": "[encoded data removed]"
          },
          "metadata": {
            "needs_background": "light"
          }
        }
      ]
    },
    {
      "cell_type": "code",
      "source": [
        "for i in range(10):\n",
        "    \n",
        "    z1 = np.ones((10,10,3))\n",
        "    z1[:,:,0] = np.random.rand()\n",
        "    z1[:,:,1] = np.random.rand()\n",
        "    z1[:,:,2] = np.random.rand()\n",
        "\n",
        "    z2 = np.ones((10,10,3))\n",
        "    z2[:,:,0] = np.random.rand()\n",
        "    z2[:,:,1] = np.random.rand()\n",
        "    z2[:,:,2] = np.random.rand()\n",
        "\n",
        "    z3 = np.hstack((z1,z2))\n",
        "\n",
        "    plt.imshow(z3);\n",
        "    plt.show()"
      ],
      "metadata": {
        "colab": {
          "base_uri": "https://localhost:8080/",
          "height": 1000
        },
        "id": "UOXsNSkoay3y",
        "outputId": "68045051-7361-4835-ef8c-1954892d4a47"
      },
      "execution_count": 198,
      "outputs": [
        {
          "output_type": "display_data",
          "data": {
            "text/plain": [
              "<Figure size 432x288 with 1 Axes>"
            ],
            "image/png": "[encoded data removed]"
          },
          "metadata": {
            "needs_background": "light"
          }
        },
        {
          "output_type": "display_data",
          "data": {
            "text/plain": [
              "<Figure size 432x288 with 1 Axes>"
            ],
            "image/png": "[encoded data removed]"
          },
          "metadata": {
            "needs_background": "light"
          }
        },
        {
          "output_type": "display_data",
          "data": {
            "text/plain": [
              "<Figure size 432x288 with 1 Axes>"
            ],
            "image/png": "[encoded data removed]"
          },
          "metadata": {
            "needs_background": "light"
          }
        },
        {
          "output_type": "display_data",
          "data": {
            "text/plain": [
              "<Figure size 432x288 with 1 Axes>"
            ],
            "image/png": "[encoded data removed]"
          },
          "metadata": {
            "needs_background": "light"
          }
        },
        {
          "output_type": "display_data",
          "data": {
            "text/plain": [
              "<Figure size 432x288 with 1 Axes>"
            ],
            "image/png": "[encoded data removed]"
          },
          "metadata": {
            "needs_background": "light"
          }
        },
        {
          "output_type": "display_data",
          "data": {
            "text/plain": [
              "<Figure size 432x288 with 1 Axes>"
            ],
            "image/png": "[encoded data removed]"
          },
          "metadata": {
            "needs_background": "light"
          }
        },
        {
          "output_type": "display_data",
          "data": {
            "text/plain": [
              "<Figure size 432x288 with 1 Axes>"
            ],
            "image/png": "[encoded data removed]"
          },
          "metadata": {
            "needs_background": "light"
          }
        },
        {
          "output_type": "display_data",
          "data": {
            "text/plain": [
              "<Figure size 432x288 with 1 Axes>"
            ],
            "image/png": "[encoded data removed]"
          },
          "metadata": {
            "needs_background": "light"
          }
        },
        {
          "output_type": "display_data",
          "data": {
            "text/plain": [
              "<Figure size 432x288 with 1 Axes>"
            ],
            "image/png": "[encoded data removed]"
          },
          "metadata": {
            "needs_background": "light"
          }
        },
        {
          "output_type": "display_data",
          "data": {
            "text/plain": [
              "<Figure size 432x288 with 1 Axes>"
            ],
            "image/png": "[encoded data removed]"
          },
          "metadata": {
            "needs_background": "light"
          }
        }
      ]
    },
    {
      "cell_type": "code",
      "source": [],
      "metadata": {
        "id": "eJ2Ea9HBbM_X"
      },
      "execution_count": 198,
      "outputs": []
    },
    {
      "cell_type": "code",
      "source": [
        "for i in range(10):\n",
        "    \n",
        "    z1 = np.ones((10,10,3))\n",
        "    z2 = np.ones((10,10,3))\n",
        "\n",
        "    r = np.random.rand()\n",
        "    g = np.random.rand()\n",
        "    b = np.random.rand()\n",
        "\n",
        "    z1[:,:,0] = r\n",
        "    z1[:,:,1] = g\n",
        "    z1[:,:,2] = b\n",
        "    \n",
        "    z2[:,:,0] = 1-r\n",
        "    z2[:,:,1] = 1-g\n",
        "    z2[:,:,2] = 1-b\n",
        "\n",
        "    z3 = np.hstack((z1,z2))\n",
        "\n",
        "    plt.imshow(z3);\n",
        "    plt.show()"
      ],
      "metadata": {
        "colab": {
          "base_uri": "https://localhost:8080/",
          "height": 1000
        },
        "id": "1Y0s21HPbNBg",
        "outputId": "35165018-1477-4742-8983-4ffcb1b87bfc"
      },
      "execution_count": 248,
      "outputs": [
        {
          "output_type": "display_data",
          "data": {
            "text/plain": [
              "<Figure size 432x288 with 1 Axes>"
            ],
            "image/png": "[encoded data removed]"
          },
          "metadata": {
            "needs_background": "light"
          }
        },
        {
          "output_type": "display_data",
          "data": {
            "text/plain": [
              "<Figure size 432x288 with 1 Axes>"
            ],
            "image/png": "[encoded data removed]"
          },
          "metadata": {
            "needs_background": "light"
          }
        },
        {
          "output_type": "display_data",
          "data": {
            "text/plain": [
              "<Figure size 432x288 with 1 Axes>"
            ],
            "image/png": "[encoded data removed]"
          },
          "metadata": {
            "needs_background": "light"
          }
        },
        {
          "output_type": "display_data",
          "data": {
            "text/plain": [
              "<Figure size 432x288 with 1 Axes>"
            ],
            "image/png": "[encoded data removed]"
          },
          "metadata": {
            "needs_background": "light"
          }
        },
        {
          "output_type": "display_data",
          "data": {
            "text/plain": [
              "<Figure size 432x288 with 1 Axes>"
            ],
            "image/png": "[encoded data removed]"
          },
          "metadata": {
            "needs_background": "light"
          }
        },
        {
          "output_type": "display_data",
          "data": {
            "text/plain": [
              "<Figure size 432x288 with 1 Axes>"
            ],
            "image/png": "[encoded data removed]"
          },
          "metadata": {
            "needs_background": "light"
          }
        },
        {
          "output_type": "display_data",
          "data": {
            "text/plain": [
              "<Figure size 432x288 with 1 Axes>"
            ],
            "image/png": "[encoded data removed]"
          },
          "metadata": {
            "needs_background": "light"
          }
        },
        {
          "output_type": "display_data",
          "data": {
            "text/plain": [
              "<Figure size 432x288 with 1 Axes>"
            ],
            "image/png": "[encoded data removed]"
          },
          "metadata": {
            "needs_background": "light"
          }
        },
        {
          "output_type": "display_data",
          "data": {
            "text/plain": [
              "<Figure size 432x288 with 1 Axes>"
            ],
            "image/png": "[encoded data removed]"
          },
          "metadata": {
            "needs_background": "light"
          }
        },
        {
          "output_type": "display_data",
          "data": {
            "text/plain": [
              "<Figure size 432x288 with 1 Axes>"
            ],
            "image/png": "[encoded data removed]"
          },
          "metadata": {
            "needs_background": "light"
          }
        }
      ]
    },
    {
      "cell_type": "code",
      "source": [],
      "metadata": {
        "id": "Ey4zcHqhU2Q-"
      },
      "execution_count": 199,
      "outputs": []
    },
    {
      "cell_type": "markdown",
      "source": [
        "https://lospec.com/palette-list"
      ],
      "metadata": {
        "id": "ShxAALmgM1uv"
      }
    },
    {
      "cell_type": "code",
      "source": [
        "import numpy as np\n",
        "import matplotlib.pyplot as plt\n",
        "import matplotlib.colors as mcolors\n",
        "import matplotlib\n",
        "import imageio\n",
        "from PIL import Image\n",
        "\n",
        "def get_colors_lospec(url):\n",
        "    im = imageio.imread(url)\n",
        "    rgb_list = (im/255)[0,:,0:3]\n",
        "    float_list = list(np.linspace(0,1,len(rgb_list)))    \n",
        "    cdict = dict()\n",
        "    for num, col in enumerate(['red', 'green', 'blue']):\n",
        "        col_list = [[float_list[i], rgb_list[i][num], rgb_list[i][num]] for i in range(len(float_list))]\n",
        "        cdict[col] = col_list\n",
        "    cmp = mcolors.LinearSegmentedColormap('my_cmp', segmentdata=cdict, N=256)\n",
        "    return cmp"
      ],
      "metadata": {
        "id": "CRKnDKcrWGA0"
      },
      "execution_count": 200,
      "outputs": []
    },
    {
      "cell_type": "code",
      "source": [
        "url = 'https://lospec.com/palette-list/agb-32x.png'"
      ],
      "metadata": {
        "id": "d4zuPhl7S0hM"
      },
      "execution_count": 201,
      "outputs": []
    },
    {
      "cell_type": "code",
      "source": [
        "url = 'https://lospec.com/palette-list/agb-1x.png'"
      ],
      "metadata": {
        "id": "N6slVKqSXSSd"
      },
      "execution_count": 202,
      "outputs": []
    },
    {
      "cell_type": "code",
      "source": [
        "url = 'https://lospec.com/palette-list/moondrom-1x.png'"
      ],
      "metadata": {
        "id": "E9x4ENWMRtIZ"
      },
      "execution_count": 203,
      "outputs": []
    },
    {
      "cell_type": "code",
      "metadata": {
        "id": "V9zLLsIaRtIa"
      },
      "source": [
        "im = imageio.imread(url)"
      ],
      "execution_count": 204,
      "outputs": []
    },
    {
      "cell_type": "code",
      "metadata": {
        "colab": {
          "base_uri": "https://localhost:8080/",
          "height": 94
        },
        "outputId": "cd837484-e32a-4abe-c258-fce35ddc51b9",
        "id": "2d5fG_wNRtIa"
      },
      "source": [
        "plt.imshow(im);"
      ],
      "execution_count": 250,
      "outputs": [
        {
          "output_type": "display_data",
          "data": {
            "text/plain": [
              "<Figure size 432x288 with 1 Axes>"
            ],
            "image/png": "[encoded data removed]"
          },
          "metadata": {
            "needs_background": "light"
          }
        }
      ]
    },
    {
      "cell_type": "code",
      "source": [
        "z = np.random.randint(0,255,size=(10,10))"
      ],
      "metadata": {
        "id": "eLq5CnVtTD3d"
      },
      "execution_count": 206,
      "outputs": []
    },
    {
      "cell_type": "code",
      "source": [
        "plt.imshow(z, cmap=get_colors_lospec(url))\n",
        "plt.colorbar();"
      ],
      "metadata": {
        "colab": {
          "base_uri": "https://localhost:8080/",
          "height": 266
        },
        "outputId": "861c4483-03a5-4c3f-abf1-f09f487ed89a",
        "id": "OZ34VY76RtIa"
      },
      "execution_count": 207,
      "outputs": [
        {
          "output_type": "display_data",
          "data": {
            "text/plain": [
              "<Figure size 432x288 with 2 Axes>"
            ],
            "image/png": "[encoded data removed]"
          },
          "metadata": {
            "needs_background": "light"
          }
        }
      ]
    },
    {
      "cell_type": "code",
      "source": [
        "x, y = np.mgrid[-5:5:0.05, -5:5:0.05]       #plots in 2D\n",
        "z = np.sqrt(x**2 + y**2)\n",
        "\n",
        "plt.imshow(z, cmap=get_colors_lospec(url));\n",
        "plt.show()"
      ],
      "metadata": {
        "id": "uaZ4Le1FRsIr",
        "colab": {
          "base_uri": "https://localhost:8080/",
          "height": 269
        },
        "outputId": "8cfe7ca2-3bbd-499b-e09e-5f445384ce46"
      },
      "execution_count": 254,
      "outputs": [
        {
          "output_type": "display_data",
          "data": {
            "text/plain": [
              "<Figure size 432x288 with 1 Axes>"
            ],
            "image/png": "[encoded data removed]"
          },
          "metadata": {
            "needs_background": "light"
          }
        }
      ]
    },
    {
      "cell_type": "code",
      "source": [
        "x, y = np.mgrid[-5:5:0.05, -5:5:0.05]\n",
        "z = np.sin(3*y)\n",
        "\n",
        "plt.imshow(z, cmap=get_colors_lospec(url));\n",
        "plt.show()"
      ],
      "metadata": {
        "id": "70-fD1hyegyl",
        "colab": {
          "base_uri": "https://localhost:8080/",
          "height": 269
        },
        "outputId": "7cd47d01-d53b-45b2-bc93-385d606bca28"
      },
      "execution_count": 209,
      "outputs": [
        {
          "output_type": "display_data",
          "data": {
            "text/plain": [
              "<Figure size 432x288 with 1 Axes>"
            ],
            "image/png": "[encoded data removed]"
          },
          "metadata": {
            "needs_background": "light"
          }
        }
      ]
    },
    {
      "cell_type": "code",
      "source": [
        "x, y = np.mgrid[-5:5:0.05, -5:5:0.05]\n",
        "z = np.sin(3*y)*np.sin(3*x)\n",
        "\n",
        "plt.imshow(z, cmap=get_colors_lospec(url));\n",
        "plt.show()"
      ],
      "metadata": {
        "colab": {
          "base_uri": "https://localhost:8080/",
          "height": 269
        },
        "id": "DMRAq0NUAyk2",
        "outputId": "d6afa825-90b7-4752-9e22-3ad3ef092584"
      },
      "execution_count": 210,
      "outputs": [
        {
          "output_type": "display_data",
          "data": {
            "text/plain": [
              "<Figure size 432x288 with 1 Axes>"
            ],
            "image/png": "[encoded data removed]"
          },
          "metadata": {
            "needs_background": "light"
          }
        }
      ]
    },
    {
      "cell_type": "code",
      "source": [],
      "metadata": {
        "id": "NCgWMg1vA6iv"
      },
      "execution_count": 210,
      "outputs": []
    }
  ]
}