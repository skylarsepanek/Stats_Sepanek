{
  "nbformat": 4,
  "nbformat_minor": 0,
  "metadata": {
    "colab": {
      "provenance": [],
      "authorship_tag": "ABX9TyObT/rZ31Kl60tWe/OILHmc",
      "include_colab_link": true
    },
    "kernelspec": {
      "name": "python3",
      "display_name": "Python 3"
    },
    "language_info": {
      "name": "python"
    }
  },
  "cells": [
    {
      "cell_type": "markdown",
      "metadata": {
        "id": "view-in-github",
        "colab_type": "text"
      },
      "source": [
        "<a href=\"https://colab.research.google.com/github/skylarsepanek/Stats_Sepanek/blob/main/SKYLAR_SEPANEK_MIDTERM.ipynb\" target=\"_parent\"><img src=\"https://colab.research.google.com/assets/colab-badge.svg\" alt=\"Open In Colab\"/></a>"
      ]
    },
    {
      "cell_type": "code",
      "execution_count": 29,
      "metadata": {
        "id": "OOkft1jvQ0EA"
      },
      "outputs": [],
      "source": [
        "import numpy as np  #always first thing to put\n",
        "import matplotlib.pyplot as plt "
      ]
    },
    {
      "cell_type": "code",
      "source": [
        "X = np.array([12,9,20,7,2])    #dataset on diameter and circumfrence\n",
        "Y = np.array([38,28,63,22,6])"
      ],
      "metadata": {
        "id": "ymm33hCtQ29S"
      },
      "execution_count": 30,
      "outputs": []
    },
    {
      "cell_type": "code",
      "source": [
        "plt.plot(X,Y,'b.') #plotting data, added blue dots"
      ],
      "metadata": {
        "colab": {
          "base_uri": "https://localhost:8080/",
          "height": 282
        },
        "id": "uz16Hb7hQ3B7",
        "outputId": "729da9f1-f2d8-4340-cca8-f6199cf14128"
      },
      "execution_count": 31,
      "outputs": [
        {
          "output_type": "execute_result",
          "data": {
            "text/plain": [
              "[<matplotlib.lines.Line2D at 0x7f2e43c8c510>]"
            ]
          },
          "metadata": {},
          "execution_count": 31
        },
        {
          "output_type": "display_data",
          "data": {
            "text/plain": [
              "<Figure size 432x288 with 1 Axes>"
            ],
            "image/png": "[encoded data removed]"
          },
          "metadata": {
            "needs_background": "light"
          }
        }
      ]
    },
    {
      "cell_type": "code",
      "source": [
        "m_guess = 0  #initial guesses\n",
        "b_guess = 0 "
      ],
      "metadata": {
        "id": "N6g_VXTYQ3Ej"
      },
      "execution_count": 32,
      "outputs": []
    },
    {
      "cell_type": "markdown",
      "source": [
        "$y+mx+b$.    \n"
      ],
      "metadata": {
        "id": "pPO6Mj_cSxmJ"
      }
    },
    {
      "cell_type": "code",
      "source": [
        "#formula for linear model"
      ],
      "metadata": {
        "id": "eKM6YMYFUD0f"
      },
      "execution_count": 33,
      "outputs": []
    },
    {
      "cell_type": "code",
      "source": [
        "m_guess * X + b_guess "
      ],
      "metadata": {
        "colab": {
          "base_uri": "https://localhost:8080/"
        },
        "id": "AkLLfx_FQ3L0",
        "outputId": "3ea5402e-da31-4b76-f9ed-bb7c64a48f07"
      },
      "execution_count": 34,
      "outputs": [
        {
          "output_type": "execute_result",
          "data": {
            "text/plain": [
              "array([0, 0, 0, 0, 0])"
            ]
          },
          "metadata": {},
          "execution_count": 34
        }
      ]
    },
    {
      "cell_type": "code",
      "source": [
        "y_guess = m_guess * X + b_guess "
      ],
      "metadata": {
        "id": "oOQIDhf2Q3OD"
      },
      "execution_count": 35,
      "outputs": []
    },
    {
      "cell_type": "code",
      "source": [
        "y_guess - Y #subtract value"
      ],
      "metadata": {
        "colab": {
          "base_uri": "https://localhost:8080/"
        },
        "id": "vnAhbOIvQ3QE",
        "outputId": "0edda77c-c185-44cc-adb2-cf59deccb8bc"
      },
      "execution_count": 36,
      "outputs": [
        {
          "output_type": "execute_result",
          "data": {
            "text/plain": [
              "array([-38, -28, -63, -22,  -6])"
            ]
          },
          "metadata": {},
          "execution_count": 36
        }
      ]
    },
    {
      "cell_type": "code",
      "source": [
        "#testing how wrong we are"
      ],
      "metadata": {
        "id": "2CxAqB1hQ3SO"
      },
      "execution_count": 37,
      "outputs": []
    },
    {
      "cell_type": "code",
      "source": [
        "np.sum((y_guess - Y)**2)  #gives us the sum  OR #least squares best fit"
      ],
      "metadata": {
        "colab": {
          "base_uri": "https://localhost:8080/"
        },
        "id": "WFSlKKEeQ3Uc",
        "outputId": "106ffef9-6b29-41ce-aa47-34b5ca80f6da"
      },
      "execution_count": 52,
      "outputs": [
        {
          "output_type": "execute_result",
          "data": {
            "text/plain": [
              "7378517.0"
            ]
          },
          "metadata": {},
          "execution_count": 52
        }
      ]
    },
    {
      "cell_type": "code",
      "source": [
        "loss = np.sum((y_guess - Y)**2) #loss function"
      ],
      "metadata": {
        "id": "Ubqhho8uUKHf"
      },
      "execution_count": 53,
      "outputs": []
    },
    {
      "cell_type": "code",
      "source": [
        "best_loss_so_far = 1000000000000\n",
        "\n",
        "m_best=0\n",
        "b_best=0\n",
        "\n",
        "for m_guess in np.linspace(-100,100,100): #prints all possible guesses for m                  #this is called linear regression\n",
        "  for b_guess in np.linspace(-100,100,100): #prints all possible guesses for b\n",
        "  \n",
        "    y_guess = m_guess * X + b_guess \n",
        "\n",
        "    loss = np.sum((y_guess - Y)**2) #least squares\n",
        "\n",
        "   \n",
        "\n",
        "    if loss < best_loss_so_far:   \n",
        "      m_best = m_guess\n",
        "      b_best = b_guess\n",
        "      best_loss_so_far = loss\n",
        "\n",
        "\n",
        "print(\"Found best fit:\")\n",
        "print(m_best,b_best,loss)"
      ],
      "metadata": {
        "colab": {
          "base_uri": "https://localhost:8080/"
        },
        "id": "dB56e9jxUKKW",
        "outputId": "5e09c913-5ec3-43d7-987c-2da91fd93146"
      },
      "execution_count": 58,
      "outputs": [
        {
          "output_type": "stream",
          "name": "stdout",
          "text": [
            "Found best fit:\n",
            "3.030303030303031 1.0101010101010104 7378517.0\n"
          ]
        }
      ]
    },
    {
      "cell_type": "code",
      "source": [
        "#THIS IS PI ^^"
      ],
      "metadata": {
        "id": "NAxXbMxBUKNA"
      },
      "execution_count": 60,
      "outputs": []
    },
    {
      "cell_type": "markdown",
      "source": [
        "The estimated relationship is:\n",
        "\n",
        "$C = ? D + ?$"
      ],
      "metadata": {
        "id": "xReIVzgUdj6v"
      }
    },
    {
      "cell_type": "markdown",
      "source": [
        "C=pi*d\n",
        "\n",
        "\n",
        "y=m*X+b"
      ],
      "metadata": {
        "id": "H_WRGN0EeJ2E"
      }
    },
    {
      "cell_type": "markdown",
      "source": [
        "## Part 3: Interpretation\n",
        "\n",
        "Answer the questions in text cells"
      ],
      "metadata": {
        "id": "5_xMSZm7dj81"
      }
    },
    {
      "cell_type": "markdown",
      "source": [
        "#### Question 1:\n",
        "\n",
        "What do $m$ and $b$ represent in these equations?"
      ],
      "metadata": {
        "id": "TqXpvno9dj_N"
      }
    },
    {
      "cell_type": "markdown",
      "source": [
        "M represents slope of line of best fit\n",
        "B represents intercept of line of best fit (the y intercept)"
      ],
      "metadata": {
        "id": "FsPDwqD1eN0p"
      }
    },
    {
      "cell_type": "markdown",
      "source": [
        "#### Question 2:\n",
        "\n",
        "Guess what the correct values $m$ and $b$ should be."
      ],
      "metadata": {
        "id": "izx_PF55dopI"
      }
    },
    {
      "cell_type": "markdown",
      "source": [
        "m= pi\n",
        "b= 0"
      ],
      "metadata": {
        "id": "hKTLFawceoju"
      }
    },
    {
      "cell_type": "markdown",
      "source": [
        "#### Question 3:\n",
        "\n",
        "Does it make sense to include $b$ in the parameters?"
      ],
      "metadata": {
        "id": "t08IMYn-dore"
      }
    },
    {
      "cell_type": "markdown",
      "source": [
        "No because when diameter is 0, the circumfrence has to be 0 "
      ],
      "metadata": {
        "id": "pfKI5RNqdot2"
      }
    }
  ]
}